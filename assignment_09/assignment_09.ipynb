{
 "cells": [
  {
   "cell_type": "markdown",
   "id": "fuzzy-bracket",
   "metadata": {},
   "source": [
    "#### Import Python packages"
   ]
  },
  {
   "cell_type": "code",
   "execution_count": 16,
   "id": "higher-alias",
   "metadata": {},
   "outputs": [],
   "source": [
    "import math\n",
    "import numpy as np\n",
    "import scipy.stats as stats"
   ]
  },
  {
   "cell_type": "markdown",
   "id": "terminal-security",
   "metadata": {},
   "source": [
    "### Step 0 - Data Preprocessing\n",
    "\n",
    "Process the raw data to make a list of integers. In order to calculate descriptive statistic, Python needs to work with a list of numbers.\n",
    "\n",
    "### note: Don't manually make the list by hand-typing the numbers. Write code to automate the data preparation."
   ]
  },
  {
   "cell_type": "markdown",
   "id": "later-performance",
   "metadata": {},
   "source": [
    "#### make each line of numbers a string object and then concatenate them together \n",
    "#### The end result is one single string containing 35 numbers separated by \";\""
   ]
  },
  {
   "cell_type": "code",
   "execution_count": 17,
   "id": "handy-relation",
   "metadata": {},
   "outputs": [
    {
     "name": "stdout",
     "output_type": "stream",
     "text": [
      "6,414; 1,550; 2,109; 9,350; 21,828; 4,300; 5,944; 5,722; 2,825; 2,044;5,481; 5,200; 5,853; 2,750; 10,012; 6,357; 27,000; 9,414; 7,681; 3,200; 17,500; 9,200; 7,380; 18,314; 6,557; 13,713; 17,768; 7,493; 2,771; 2,861; 1,263; 7,285; 28,165; 5,080; 11,622\n"
     ]
    }
   ],
   "source": [
    "data_1 = \"6,414; 1,550; 2,109; 9,350; 21,828; 4,300; 5,944; 5,722; 2,825; 2,044;\" \n",
    "data_2 = \"5,481; 5,200; 5,853; 2,750; 10,012; 6,357; 27,000; 9,414; 7,681; 3,200; \"\n",
    "data_3 = \"17,500; 9,200; 7,380; 18,314; 6,557; 13,713; 17,768; 7,493; 2,771; 2,861; \"\n",
    "data_4 = \"1,263; 7,285; 28,165; 5,080; 11,622\"\n",
    "data = data_1 + data_2 + data_3 + data_4\n",
    "print(data)"
   ]
  },
  {
   "cell_type": "markdown",
   "id": "municipal-length",
   "metadata": {},
   "source": [
    "#### Convert the single string to a list of strings using split() function\n",
    "#### Make sure to specify a delimter or separator"
   ]
  },
  {
   "cell_type": "code",
   "execution_count": 18,
   "id": "bound-forth",
   "metadata": {},
   "outputs": [
    {
     "name": "stdout",
     "output_type": "stream",
     "text": [
      "['6,414', ' 1,550', ' 2,109', ' 9,350', ' 21,828', ' 4,300', ' 5,944', ' 5,722', ' 2,825', ' 2,044', '5,481', ' 5,200', ' 5,853', ' 2,750', ' 10,012', ' 6,357', ' 27,000', ' 9,414', ' 7,681', ' 3,200', ' 17,500', ' 9,200', ' 7,380', ' 18,314', ' 6,557', ' 13,713', ' 17,768', ' 7,493', ' 2,771', ' 2,861', ' 1,263', ' 7,285', ' 28,165', ' 5,080', ' 11,622']\n"
     ]
    }
   ],
   "source": [
    "x = data.split(\";\")\n",
    "print(x)"
   ]
  },
  {
   "cell_type": "markdown",
   "id": "acquired-charlotte",
   "metadata": {},
   "source": [
    "#### Create a list of integers from the list of strings using List Comprehension or for loop. Make sure to remove the \",\" first and then convert the strings to integers"
   ]
  },
  {
   "cell_type": "code",
   "execution_count": 19,
   "id": "thorough-forge",
   "metadata": {},
   "outputs": [
    {
     "name": "stdout",
     "output_type": "stream",
     "text": [
      "[6414, 1550, 2109, 9350, 21828, 4300, 5944, 5722, 2825, 2044, 5481, 5200, 5853, 2750, 10012, 6357, 27000, 9414, 7681, 3200, 17500, 9200, 7380, 18314, 6557, 13713, 17768, 7493, 2771, 2861, 1263, 7285, 28165, 5080, 11622]\n"
     ]
    }
   ],
   "source": [
    "e = [int(i.replace(\",\", \"\")) for i in x]\n",
    "print(e)"
   ]
  },
  {
   "cell_type": "markdown",
   "id": "progressive-bouquet",
   "metadata": {},
   "source": [
    "#### Create a list of integers from the list of strings using List Comprehension or a function\n",
    "#### Make sure to remove the \",\" first and then convert the strings to integers"
   ]
  },
  {
   "cell_type": "code",
   "execution_count": 20,
   "id": "preceding-answer",
   "metadata": {},
   "outputs": [
    {
     "name": "stdout",
     "output_type": "stream",
     "text": [
      "[6414, 1550, 2109, 9350, 21828, 4300, 5944, 5722, 2825, 2044, 5481, 5200, 5853, 2750, 10012, 6357, 27000, 9414, 7681, 3200, 17500, 9200, 7380, 18314, 6557, 13713, 17768, 7493, 2771, 2861, 1263, 7285, 28165, 5080, 11622]\n"
     ]
    }
   ],
   "source": [
    "e = []\n",
    "for i in x:\n",
    "    y = i.replace(\",\", \"\")\n",
    "    y = int(y)\n",
    "    e.append(y)\n",
    "    \n",
    "print(e)"
   ]
  },
  {
   "cell_type": "markdown",
   "id": "orange-center",
   "metadata": {},
   "source": [
    "### Step 1 - Calculate and Display the Sample Size and Sample Mean"
   ]
  },
  {
   "cell_type": "markdown",
   "id": "female-header",
   "metadata": {},
   "source": [
    "\n",
    "#### Calculate and display the sample size"
   ]
  },
  {
   "cell_type": "code",
   "execution_count": 21,
   "id": "radical-damages",
   "metadata": {},
   "outputs": [
    {
     "name": "stdout",
     "output_type": "stream",
     "text": [
      "Sample Size = 35\n"
     ]
    }
   ],
   "source": [
    "sample_size = len(e)\n",
    "print(\"Sample Size =\", sample_size)"
   ]
  },
  {
   "cell_type": "markdown",
   "id": "respected-album",
   "metadata": {},
   "source": [
    "####  Calculate and display the sample mean"
   ]
  },
  {
   "cell_type": "code",
   "execution_count": 22,
   "id": "differential-budget",
   "metadata": {},
   "outputs": [
    {
     "name": "stdout",
     "output_type": "stream",
     "text": [
      "Sample Size = 8629\n"
     ]
    }
   ],
   "source": [
    "sample_mean = int(round(np.mean(e),0))\n",
    "print(\"Sample Size =\", sample_mean)"
   ]
  },
  {
   "cell_type": "markdown",
   "id": "portuguese-hollywood",
   "metadata": {},
   "source": [
    "### Step 2 - Calculate and Display the Sample Standard Deviation & Sample Standard Error Sample Standard Deviation $S=\\sqrt{\\dfrac{1}{n-1}\\sum\\limits_{i=1}^n (X_i-\\bar{X})^2}$\n",
    "\n",
    "Sample Standard Error = $\\dfrac{S}{\\sqrt{n}}$\n",
    "\n",
    "Note: The default Delta Degree of Freedom (DDOF) for Numpy's std function is 0 which is applicable to populate data. For sample data, we need to specify ddof=1.\n",
    "\n",
    "For the enrollment data, we round up the statistics to be the full integers (no decimal points)."
   ]
  },
  {
   "cell_type": "markdown",
   "id": "complete-priest",
   "metadata": {},
   "source": [
    "#### Calculate and display the sample standard deviation using Numpy's std function.\n"
   ]
  },
  {
   "cell_type": "code",
   "execution_count": 23,
   "id": "peaceful-number",
   "metadata": {},
   "outputs": [
    {
     "name": "stdout",
     "output_type": "stream",
     "text": [
      "Sample Standard Deviation = 6944\n"
     ]
    }
   ],
   "source": [
    "sample_std = int(round(np.std(e, ddof=1),0))\n",
    "print(\"Sample Standard Deviation =\",sample_std)"
   ]
  },
  {
   "cell_type": "markdown",
   "id": "downtown-student",
   "metadata": {},
   "source": [
    "#### Calculate and display the sample standard error"
   ]
  },
  {
   "cell_type": "code",
   "execution_count": 24,
   "id": "disciplinary-keyboard",
   "metadata": {},
   "outputs": [
    {
     "name": "stdout",
     "output_type": "stream",
     "text": [
      "Sample Standard Error = 1174\n"
     ]
    }
   ],
   "source": [
    "std_err = int(round(sample_std / math.sqrt(sample_size),0))       # standard error\n",
    "print(\"Sample Standard Error =\", std_err)"
   ]
  },
  {
   "cell_type": "markdown",
   "id": "super-telling",
   "metadata": {},
   "source": [
    "### Step 3 - Calculate t Critical Value using t-Distribution\n",
    "\n",
    "$\\alpha$ = 1 - Confidence Level = 1 - 95% = 0.05\n",
    "\n",
    "$\\dfrac{\\alpha}{2}$ = 0.025\n",
    "\n",
    "n (sample size) = 35\n",
    "\n",
    "df (degree of freedom) = n - 1 = 35 - 1 = 34\n",
    "\n",
    "We will use Python scipy.stats t-distribution's PPF (Percentage Point Function) to calculate t critical value $t_{0.025,34}$."
   ]
  },
  {
   "cell_type": "markdown",
   "id": "peaceful-southwest",
   "metadata": {},
   "source": [
    "#### Calculate and display the t critical value using scipy.stats.t package ppf function\n"
   ]
  },
  {
   "cell_type": "code",
   "execution_count": 25,
   "id": "minimal-parameter",
   "metadata": {},
   "outputs": [
    {
     "name": "stdout",
     "output_type": "stream",
     "text": [
      "t critical value = 2.03\n"
     ]
    }
   ],
   "source": [
    "sigma = 1 -.95\n",
    "significance_level = 1 - sigma/2\n",
    "t_critical_value = round(stats.t.ppf(q=significance_level, df=sample_size-1),2)\n",
    "print(\"t critical value =\", t_critical_value)"
   ]
  },
  {
   "cell_type": "markdown",
   "id": "according-trace",
   "metadata": {},
   "source": [
    "### Step 4 - Calculate the Margin of Error\n",
    "\n",
    "Margin of Error = t-Statistics * Sample Standard Error = $t_{\\alpha/2,n-1}\\left(\\dfrac{s}{\\sqrt{n}}\\right)$"
   ]
  },
  {
   "cell_type": "markdown",
   "id": "sitting-fleece",
   "metadata": {},
   "source": [
    "#### Calculate and display the margin of error"
   ]
  },
  {
   "cell_type": "code",
   "execution_count": 26,
   "id": "weird-allen",
   "metadata": {},
   "outputs": [
    {
     "name": "stdout",
     "output_type": "stream",
     "text": [
      "Margin of Error = 2383\n"
     ]
    }
   ],
   "source": [
    "margin_of_error = int(round(t_critical_value * std_err,2))\n",
    "print(\"Margin of Error =\", margin_of_error)"
   ]
  },
  {
   "cell_type": "markdown",
   "id": "hawaiian-shock",
   "metadata": {},
   "source": [
    "\n",
    "### Step 5 - Calculate Lower and Upper Limit of the Confidence Interval\n",
    "\n",
    "Lower Limit = Sample Mean - Margin of Error\n",
    "\n",
    "Upper Limit = Sample Mean + Margin of Error"
   ]
  },
  {
   "cell_type": "markdown",
   "id": "indoor-latest",
   "metadata": {},
   "source": [
    "#### Calculate and display the lower limit\n"
   ]
  },
  {
   "cell_type": "code",
   "execution_count": 27,
   "id": "rental-america",
   "metadata": {},
   "outputs": [
    {
     "name": "stdout",
     "output_type": "stream",
     "text": [
      "Lower Limit =  6246\n"
     ]
    }
   ],
   "source": [
    "lower_limit = sample_mean - margin_of_error\n",
    "print (\"Lower Limit = \", lower_limit)"
   ]
  },
  {
   "cell_type": "markdown",
   "id": "heard-chamber",
   "metadata": {},
   "source": [
    "#### Calculate and display the upper limit\n"
   ]
  },
  {
   "cell_type": "code",
   "execution_count": 28,
   "id": "pointed-thong",
   "metadata": {},
   "outputs": [
    {
     "name": "stdout",
     "output_type": "stream",
     "text": [
      "Upper Limit =  11012\n"
     ]
    }
   ],
   "source": [
    "upper_limit = sample_mean + margin_of_error\n",
    "print (\"Upper Limit = \", upper_limit)"
   ]
  },
  {
   "cell_type": "markdown",
   "id": "worse-island",
   "metadata": {},
   "source": [
    "\n",
    "### Step 6 - Now We have the 95% Confidence Interval\n",
    "\n",
    "Confidence Interval ($\\sigma$ unknown) = $\\bar{x}\\space\\pm\\space t_{\\alpha/2}\\left(\\dfrac{S}{\\sqrt{n}}\\right)$ = Sample_Mean $\\pm$ Margin of Error"
   ]
  },
  {
   "cell_type": "markdown",
   "id": "hairy-merchandise",
   "metadata": {},
   "source": [
    "#### Print the 95% confidence interveral in the form (lower limit, upper limit)\n"
   ]
  },
  {
   "cell_type": "code",
   "execution_count": 29,
   "id": "handmade-entry",
   "metadata": {},
   "outputs": [
    {
     "name": "stdout",
     "output_type": "stream",
     "text": [
      "The 95% Confidence Interval = ( 6246 , 11012 )\n"
     ]
    }
   ],
   "source": [
    "print(\"The 95% Confidence Interval = (\", lower_limit, \",\", upper_limit, \")\")\n"
   ]
  },
  {
   "cell_type": "code",
   "execution_count": null,
   "id": "unlimited-kenya",
   "metadata": {},
   "outputs": [],
   "source": []
  },
  {
   "cell_type": "code",
   "execution_count": null,
   "id": "instrumental-newfoundland",
   "metadata": {},
   "outputs": [],
   "source": []
  }
 ],
 "metadata": {
  "kernelspec": {
   "display_name": "Python 3",
   "language": "python",
   "name": "python3"
  },
  "language_info": {
   "codemirror_mode": {
    "name": "ipython",
    "version": 3
   },
   "file_extension": ".py",
   "mimetype": "text/x-python",
   "name": "python",
   "nbconvert_exporter": "python",
   "pygments_lexer": "ipython3",
   "version": "3.9.1"
  }
 },
 "nbformat": 4,
 "nbformat_minor": 5
}
