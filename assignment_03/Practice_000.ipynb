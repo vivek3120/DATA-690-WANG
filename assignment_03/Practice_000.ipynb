{
 "cells": [
  {
   "cell_type": "code",
   "execution_count": 1,
   "id": "recent-titanium",
   "metadata": {},
   "outputs": [],
   "source": [
    "import random\n"
   ]
  },
  {
   "cell_type": "code",
   "execution_count": 2,
   "id": "italian-tourism",
   "metadata": {},
   "outputs": [
    {
     "name": "stdout",
     "output_type": "stream",
     "text": [
      "3 1 3 6 8 8 9 5 7 5 \n",
      "9 9 9 6 8 2 6 9 8 5 \n",
      "2 6 4 6 2 6 4 9 6 7 \n",
      "2 1 5 1 8 8 1 7 9 1 \n",
      "2 3 1 7 8 8 8 2 7 4 \n",
      "1 4 1 6 7 7 2 3 8 2 \n",
      "8 5 1 3 9 6 9 8 9 2 \n",
      "6 7 8 7 2 7 8 4 3 9 \n",
      "1 5 3 7 8 2 8 6 1 4 \n",
      "1 2 1 6 1 5 7 2 7 2 \n"
     ]
    }
   ],
   "source": [
    "\n",
    "# 1. 10x10 matrix of random numbers\n",
    "# --------------------------\n",
    "for i in range(1,11):\n",
    "    for j in range(1,11):\n",
    "        print(random.randint(1,9),end=' ')\n",
    "    print()\n",
    "# -----------------------------\n"
   ]
  },
  {
   "cell_type": "code",
   "execution_count": 3,
   "id": "environmental-carolina",
   "metadata": {},
   "outputs": [
    {
     "name": "stdout",
     "output_type": "stream",
     "text": [
      "@ 4 8 4 @ 2 2 4 @ @ \n",
      "8 @ @ 8 @ @ 4 @ 6 6 \n",
      "@ @ @ 8 @ 2 @ @ @ @ \n",
      "@ @ @ @ @ 2 @ 8 2 @ \n",
      "@ @ @ 2 @ @ 4 @ 6 4 \n",
      "@ 4 4 @ 2 2 @ @ 4 @ \n",
      "@ 2 @ @ @ @ @ @ 6 8 \n",
      "@ @ 2 @ @ @ 2 @ @ @ \n",
      "@ @ 2 8 @ 4 @ @ 4 2 \n",
      "6 4 8 4 @ @ 4 2 @ @ \n"
     ]
    }
   ],
   "source": [
    "# 2.10x10 matrix but with @ in place of odd number\n",
    "# --------------------\n",
    "for i in range(1,11):\n",
    "    for j in range(1,11):\n",
    "        x = random.randint(1,9)\n",
    "        if (x%2) != 0:\n",
    "            x = '@' \n",
    "        print(x,end=' ')\n",
    "    print()\n",
    "# ----------------------\n",
    "\n"
   ]
  },
  {
   "cell_type": "code",
   "execution_count": 4,
   "id": "efficient-headline",
   "metadata": {},
   "outputs": [
    {
     "name": "stdout",
     "output_type": "stream",
     "text": [
      "1  2  2  8  9  2  7  4  9  1  * 45\n",
      "5  6  4  8  1  2  4  8  8  5  * 51\n",
      "5  7  3  1  6  2  1  1  5  4  * 35\n",
      "7  1  4  2  9  3  5  4  6  3  * 44\n",
      "6  3  7  4  7  4  5  3  4  7  * 50\n",
      "5  3  8  3  8  5  8  1  3  6  * 50\n",
      "9  7  8  8  5  8  1  7  9  9  * 71\n",
      "2  6  2  5  5  7  4  1  4  3  * 39\n",
      "6  5  9  3  8  4  7  8  9  7  * 66\n",
      "3  7  2  8  3  6  6  3  7  1  * 46\n"
     ]
    }
   ],
   "source": [
    "# 3. 10x10 matrix but with sum of each row\n",
    "# ------------------------\n",
    "for i in range(1,11):\n",
    "    horizontal_sum = 0\n",
    "    for j in range(1,11):\n",
    "        x = random.randint(1,9)\n",
    "        horizontal_sum += x\n",
    "        print(x,end='  ')\n",
    "    print('*',horizontal_sum)\n",
    "# ------------------------\n",
    "\n"
   ]
  },
  {
   "cell_type": "code",
   "execution_count": 5,
   "id": "political-vessel",
   "metadata": {},
   "outputs": [
    {
     "name": "stdout",
     "output_type": "stream",
     "text": [
      "*  *  *  *  *  *  *  *  *  *  *  *  \n",
      "*  4  3  8  6  5  1  2  9  5  3  *  \n",
      "*  7  9  8  5  4  4  9  9  8  7  *  \n",
      "*  6  3  8  3  4  9  1  4  1  6  *  \n",
      "*  9  2  6  8  9  1  5  8  3  3  *  \n",
      "*  7  5  6  3  1  2  6  5  2  5  *  \n",
      "*  7  9  8  4  5  5  4  6  8  2  *  \n",
      "*  1  9  7  6  1  4  2  5  8  3  *  \n",
      "*  5  4  9  9  1  9  2  4  1  5  *  \n",
      "*  5  8  1  8  1  8  3  7  3  4  *  \n",
      "*  7  4  1  2  4  9  6  3  6  5  *  \n",
      "*  *  *  *  *  *  *  *  *  *  *  *  \n"
     ]
    }
   ],
   "source": [
    "\n",
    "# 4. 10x10 matrix but with ***\n",
    "# --------------------------\n",
    "for i in range(1,13):\n",
    "    horizontal_sum = 0\n",
    "    for j in range(1,13):\n",
    "        if i in (1,12): #printing a whole line of * characters\n",
    "            print('*',end='  ')\n",
    "        else:\n",
    "            if j in (1,12):\n",
    "                print('*',end='  ')\n",
    "            else: #actual random numbers within the border of stars\n",
    "                x = random.randint(1,9)\n",
    "                print(x,end='  ')\n",
    "    print()\n",
    "\n"
   ]
  },
  {
   "cell_type": "code",
   "execution_count": 6,
   "id": "colored-philippines",
   "metadata": {},
   "outputs": [
    {
     "name": "stdout",
     "output_type": "stream",
     "text": [
      "9   3   2   3   9   1   7   3   9   4   * 50\n",
      "4   2   8   4   9   3   5   7   7   3   * 52\n",
      "4   8   3   8   6   5   8   1   3   1   * 47\n",
      "3   2   2   8   8   2   6   1   6   4   * 42\n",
      "6   8   5   1   7   5   2   7   9   7   * 57\n",
      "5   4   7   8   8   6   4   7   1   9   * 59\n",
      "8   7   8   2   1   2   7   9   5   5   * 54\n",
      "6   9   5   6   7   9   5   8   5   6   * 66\n",
      "4   8   1   7   5   7   8   4   2   3   * 49\n",
      "9   9   6   9   9   8   3   7   7   6   * 73\n",
      "*   *   *   *   *   *   *   *   *   *   \n",
      "50  52  47  42  57  59  54  66  49  73  "
     ]
    }
   ],
   "source": [
    "#5. 10x10 matrix of random numbers with vertical and horizontal sum\n",
    "# -----------------------------\n",
    "vertical_sum = dict()\n",
    "# this loop is for each row\n",
    "for i in range(1,11):\n",
    "    horizontal_sum = 0\n",
    "    for j in range(1,11):\n",
    "        x = random.randint(1,9)\n",
    "        horizontal_sum += x\n",
    "        if i in vertical_sum.keys():\n",
    "            vertical_sum[i] += x  #stores sum of a column i in the dictionary\n",
    "        else: #if the column number is not registered in the dictionary\n",
    "            vertical_sum[i] = x\n",
    "        print(x,end='   ')\n",
    "    print('*',horizontal_sum)\n",
    "\n",
    "for i in range(1,11):\n",
    "    print('*   ',end='')\n",
    "print()\n",
    "    \n",
    "for k in vertical_sum:\n",
    "    print(vertical_sum[k],end='  ')\n",
    "# ------------------------------\n"
   ]
  },
  {
   "cell_type": "code",
   "execution_count": null,
   "id": "chronic-detail",
   "metadata": {},
   "outputs": [],
   "source": []
  }
 ],
 "metadata": {
  "kernelspec": {
   "display_name": "Python 3",
   "language": "python",
   "name": "python3"
  },
  "language_info": {
   "codemirror_mode": {
    "name": "ipython",
    "version": 3
   },
   "file_extension": ".py",
   "mimetype": "text/x-python",
   "name": "python",
   "nbconvert_exporter": "python",
   "pygments_lexer": "ipython3",
   "version": "3.9.1"
  }
 },
 "nbformat": 4,
 "nbformat_minor": 5
}
