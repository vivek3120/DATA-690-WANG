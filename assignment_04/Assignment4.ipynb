{
 "cells": [
  {
   "cell_type": "code",
   "execution_count": 14,
   "id": "monetary-belgium",
   "metadata": {},
   "outputs": [
    {
     "name": "stdout",
     "output_type": "stream",
     "text": [
      "line list:\n",
      " ['Source: https://www.genealogybranches.com/censuscosts.html\\n', 'Census Year\\tTotal Population\\tCensus Cost\\tAverage Cost Per Person\\n', '1790\\t3,929,214\\t$44,377\\t1.13 cents\\n', '1800\\t5,308,483\\t$66,109\\t1.24 cents\\n', '1810\\t7,239,881\\t$178,445\\t2.46 cents\\n', '1820\\t9,633,822\\t$208,526\\t2.16 cents\\n', '1830\\t12,866,020\\t$378,545\\t2.94 cents\\n', '1840\\t17,069,458\\t$833,371\\t4.88 cents\\n', '1850\\t23,191,876\\t$1,423,351\\t6.14 cents\\n', '1860\\t31,443,321\\t$1,969,377\\t6.26 cents\\n', '1870\\t38,558,371\\t$3,421,198\\t8.87 cents\\n', '1880\\t50,155,783\\t$5,790,678\\t11.54 cents\\n', '1890\\t62,979,766\\t$11,547,127\\t18.33 cents\\n', '1900\\t76,303,387\\t$11,854,000\\t15.54 cents\\n', '1910\\t91,972,266\\t$15,968,000\\t17.07 cents\\n', '1920\\t105,710,620\\t$25,117,000\\t23.76 cents\\n', '1930\\t122,775,046\\t$40,156,000\\t32.71 cents\\n', '1940\\t131,669,275\\t$67,527,000\\t51.29 cents\\n', '1950\\t151,325,798\\t$91,462,000\\t60.44 cents\\n', '1960\\t179,323,175\\t$127,934,000\\t71.34 cents\\n', '1970\\t203,302,031\\t$247,653,000\\t$1.22\\n', '1980\\t226,542,199\\t$1,078,488,000\\t$4.76\\n', '1990\\t248,718,301\\t$2,492,830,000\\t$10.02\\n', '2000\\t281,421,906\\t$4.5 Billion\\t$15.99\\n', '2010*\\t308,745,538\\t$13 Billion\\t$42.11\\n']\n"
     ]
    }
   ],
   "source": [
    "with open('census_cost.txt') as census_data_file:\n",
    " \n",
    "    # 1\n",
    "    line_list = census_data_file.readlines()\n",
    "    print('line list:\\n',line_list)\n",
    "    \n",
    " "
   ]
  },
  {
   "cell_type": "code",
   "execution_count": 4,
   "id": "brilliant-polyester",
   "metadata": {},
   "outputs": [
    {
     "name": "stdout",
     "output_type": "stream",
     "text": [
      "top2_list:\n",
      " ['Source: https://www.genealogybranches.com/censuscosts.html\\n', 'Census Year\\tTotal Population\\tCensus Cost\\tAverage Cost Per Person\\n']\n"
     ]
    }
   ],
   "source": [
    "   \n",
    "    # 2\n",
    "    top2_list = list()\n",
    "    top2_list.insert(0,line_list.pop(0))\n",
    "    top2_list.insert(1,line_list.pop(0))\n",
    "    print('top2_list:\\n',top2_list)\n",
    "       \n"
   ]
  },
  {
   "cell_type": "code",
   "execution_count": 12,
   "id": "satisfied-tower",
   "metadata": {},
   "outputs": [
    {
     "name": "stdout",
     "output_type": "stream",
     "text": [
      "data_list:\n",
      " ['1790\\t3,929,214\\t$44,377\\t1.13 cents\\n', '1800\\t5,308,483\\t$66,109\\t1.24 cents\\n', '1810\\t7,239,881\\t$178,445\\t2.46 cents\\n', '1820\\t9,633,822\\t$208,526\\t2.16 cents\\n', '1830\\t12,866,020\\t$378,545\\t2.94 cents\\n', '1840\\t17,069,458\\t$833,371\\t4.88 cents\\n', '1850\\t23,191,876\\t$1,423,351\\t6.14 cents\\n', '1860\\t31,443,321\\t$1,969,377\\t6.26 cents\\n', '1870\\t38,558,371\\t$3,421,198\\t8.87 cents\\n', '1880\\t50,155,783\\t$5,790,678\\t11.54 cents\\n', '1890\\t62,979,766\\t$11,547,127\\t18.33 cents\\n', '1900\\t76,303,387\\t$11,854,000\\t15.54 cents\\n', '1910\\t91,972,266\\t$15,968,000\\t17.07 cents\\n', '1920\\t105,710,620\\t$25,117,000\\t23.76 cents\\n', '1930\\t122,775,046\\t$40,156,000\\t32.71 cents\\n', '1940\\t131,669,275\\t$67,527,000\\t51.29 cents\\n', '1950\\t151,325,798\\t$91,462,000\\t60.44 cents\\n', '1960\\t179,323,175\\t$127,934,000\\t71.34 cents\\n', '1970\\t203,302,031\\t$247,653,000\\t$1.22\\n', '1980\\t226,542,199\\t$1,078,488,000\\t$4.76\\n', '1990\\t248,718,301\\t$2,492,830,000\\t$10.02\\n', '2000\\t281,421,906\\t$4.5 Billion\\t$15.99\\n', '2010*\\t308,745,538\\t$13 Billion\\t$42.11\\n']\n"
     ]
    }
   ],
   "source": [
    "\n",
    "    # 3\n",
    "    data_list = line_list\n",
    "    print('data_list:\\n',data_list)\n",
    "    \n",
    "    "
   ]
  },
  {
   "cell_type": "code",
   "execution_count": 6,
   "id": "loving-permission",
   "metadata": {},
   "outputs": [
    {
     "name": "stdout",
     "output_type": "stream",
     "text": [
      "year_list:\n",
      " ['1790', '1800', '1810', '1820', '1830', '1840', '1850', '1860', '1870', '1880', '1890', '1900', '1910', '1920', '1930', '1940', '1950', '1960', '1970', '1980', '1990', '2000', '2010']\n"
     ]
    }
   ],
   "source": [
    "  \n",
    "    # 4\n",
    "    year_list = list()\n",
    "    for i in data_list:\n",
    "        x=i.split('\\t')\n",
    "        year= x[0].strip('*') #for cleaning the last element '2010*'  \n",
    "        year_list.append(year) \n",
    "    print('year_list:\\n',year_list)\n",
    "    \n",
    "    \n"
   ]
  },
  {
   "cell_type": "code",
   "execution_count": 7,
   "id": "assured-ethics",
   "metadata": {},
   "outputs": [
    {
     "name": "stdout",
     "output_type": "stream",
     "text": [
      "pop_list:\n",
      " ['3929214', '5308483', '7239881', '9633822', '12866020', '17069458', '23191876', '31443321', '38558371', '50155783', '62979766', '76303387', '91972266', '105710620', '122775046', '131669275', '151325798', '179323175', '203302031', '226542199', '248718301', '281421906', '308745538']\n"
     ]
    }
   ],
   "source": [
    "  \n",
    "    # 5\n",
    "    pop_list = list()\n",
    "    for i in data_list:\n",
    "        x = i.split('\\t')\n",
    "        population = x[1].replace(',','')\n",
    "        pop_list.append(population)\n",
    "    print('pop_list:\\n',pop_list)\n",
    "    \n"
   ]
  },
  {
   "cell_type": "code",
   "execution_count": 8,
   "id": "ancient-savage",
   "metadata": {},
   "outputs": [
    {
     "name": "stdout",
     "output_type": "stream",
     "text": [
      "cost_list:\n",
      " ['44377', '66109', '178445', '208526', '378545', '833371', '1423351', '1969377', '3421198', '5790678', '11547127', '11854000', '15968000', '25117000', '40156000', '67527000', '91462000', '127934000', '247653000', '1078488000', '2492830000', '4500000000', '13000000000']\n"
     ]
    }
   ],
   "source": [
    "\n",
    "    # 6\n",
    "    cost_list = list()\n",
    "    for i in data_list:\n",
    "        x = i.split('\\t')\n",
    "        cost = x[2].replace(',','')\n",
    "        cost = cost.replace('$','')\n",
    "        if 'Billion' in cost:\n",
    "            cost = cost.replace(' Billion','')\n",
    "            cost = str(int((float(cost)*1000000000)))\n",
    "        cost_list.append(cost)\n",
    "    print('cost_list:\\n',cost_list)\n",
    "    \n",
    "    \n"
   ]
  },
  {
   "cell_type": "code",
   "execution_count": 9,
   "id": "hydraulic-biodiversity",
   "metadata": {},
   "outputs": [
    {
     "name": "stdout",
     "output_type": "stream",
     "text": [
      "avg_list:\n",
      " ['0.01', '0.01', '0.02', '0.02', '0.03', '0.05', '0.06', '0.06', '0.09', '0.12', '0.18', '0.16', '0.17', '0.24', '0.33', '0.51', '0.6', '0.71', '1.22', '4.76', '10.02', '15.99', '42.11']\n"
     ]
    }
   ],
   "source": [
    "   \n",
    "    # 7\n",
    "    avg_list = list()\n",
    "    for i in data_list:\n",
    "        x = i.split('\\t')\n",
    "        avg = x[3]\n",
    "        if '$' in avg:\n",
    "            avg = avg.replace('$','')\n",
    "            avg = avg.replace('\\n','')\n",
    "        if 'cents' in avg:\n",
    "            avg = avg.replace(' cents','')\n",
    "            avg = str(round(float(avg)*0.01,2)) #1 cents is equal to 0.01 dollar.\n",
    "        avg_list.append(avg)\n",
    "    print('avg_list:\\n',avg_list)\n",
    "    \n"
   ]
  },
  {
   "cell_type": "code",
   "execution_count": 10,
   "id": "underlying-listing",
   "metadata": {},
   "outputs": [],
   "source": [
    "   \n",
    "# 8\n",
    "with open('census_cost.csv','w') as newfile:\n",
    "    # first 2 lines:\n",
    "    newfile.writelines(top2_list)\n",
    "    \n",
    "    # writing the data\n",
    "    for i in range(len(data_list)):\n",
    "        line = f'{year_list[i]}\\t{pop_list[i]}\\t{cost_list[i]}\\t{avg_list[i]}\\n'\n",
    "        newfile.write(line)\n",
    "\n"
   ]
  },
  {
   "cell_type": "code",
   "execution_count": 11,
   "id": "temporal-analysis",
   "metadata": {},
   "outputs": [
    {
     "name": "stdout",
     "output_type": "stream",
     "text": [
      "Source: https://www.genealogybranches.com/censuscosts.html\n",
      "Census Year\tTotal Population\tCensus Cost\tAverage Cost Per Person\n",
      "1790\t3929214\t44377\t0.01\n",
      "1800\t5308483\t66109\t0.01\n",
      "1810\t7239881\t178445\t0.02\n",
      "1820\t9633822\t208526\t0.02\n",
      "1830\t12866020\t378545\t0.03\n",
      "1840\t17069458\t833371\t0.05\n",
      "1850\t23191876\t1423351\t0.06\n",
      "1860\t31443321\t1969377\t0.06\n",
      "1870\t38558371\t3421198\t0.09\n",
      "1880\t50155783\t5790678\t0.12\n",
      "1890\t62979766\t11547127\t0.18\n",
      "1900\t76303387\t11854000\t0.16\n",
      "1910\t91972266\t15968000\t0.17\n",
      "1920\t105710620\t25117000\t0.24\n",
      "1930\t122775046\t40156000\t0.33\n",
      "1940\t131669275\t67527000\t0.51\n",
      "1950\t151325798\t91462000\t0.6\n",
      "1960\t179323175\t127934000\t0.71\n",
      "1970\t203302031\t247653000\t1.22\n",
      "1980\t226542199\t1078488000\t4.76\n",
      "1990\t248718301\t2492830000\t10.02\n",
      "2000\t281421906\t4500000000\t15.99\n",
      "2010\t308745538\t13000000000\t42.11\n"
     ]
    }
   ],
   "source": [
    "\n",
    "# 9\n",
    "with open('census_cost.csv') as census_file:\n",
    "    x=census_file.readlines()\n",
    "    for line in x:\n",
    "        print(line,end='')\n"
   ]
  },
  {
   "cell_type": "code",
   "execution_count": null,
   "id": "female-biology",
   "metadata": {},
   "outputs": [],
   "source": []
  }
 ],
 "metadata": {
  "kernelspec": {
   "display_name": "Python 3",
   "language": "python",
   "name": "python3"
  },
  "language_info": {
   "codemirror_mode": {
    "name": "ipython",
    "version": 3
   },
   "file_extension": ".py",
   "mimetype": "text/x-python",
   "name": "python",
   "nbconvert_exporter": "python",
   "pygments_lexer": "ipython3",
   "version": "3.9.1"
  }
 },
 "nbformat": 4,
 "nbformat_minor": 5
}
