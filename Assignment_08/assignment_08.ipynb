{
  "cells": [
    {
      "cell_type": "code",
      "metadata": {
        "tags": [],
        "cell_id": "00000-daf1f3e6-bf7e-462d-849d-28771ad81709",
        "deepnote_to_be_reexecuted": false,
        "source_hash": "764db9fa",
        "execution_millis": 0,
        "execution_start": 1619162953634,
        "deepnote_cell_type": "code"
      },
      "source": "# 1)-Import necessary libraries\nimport pandas as pd\nimport random\nimport os\nimport statistics as st\nimport math",
      "execution_count": 1,
      "outputs": []
    },
    {
      "cell_type": "code",
      "source": "%config IPCompleter.greedy=True\n",
      "metadata": {
        "tags": [],
        "cell_id": "00001-876ab46b-a6a5-4c4f-a82a-709600763ca0",
        "deepnote_to_be_reexecuted": false,
        "source_hash": "8a872230",
        "execution_millis": 23,
        "execution_start": 1619162953640,
        "deepnote_cell_type": "code"
      },
      "outputs": [],
      "execution_count": 2
    },
    {
      "cell_type": "code",
      "source": "\ncurrent_folder = os.getcwd()\nprint(current_folder)",
      "metadata": {
        "tags": [],
        "cell_id": "00002-43a80c78-dd07-4b6a-ac0f-f28878fbf062",
        "deepnote_to_be_reexecuted": false,
        "source_hash": "918b056d",
        "execution_millis": 47,
        "execution_start": 1619162953664,
        "deepnote_cell_type": "code"
      },
      "outputs": [
        {
          "name": "stdout",
          "text": "/work\n",
          "output_type": "stream"
        }
      ],
      "execution_count": 3
    },
    {
      "cell_type": "code",
      "source": "# 2)-Retrieve the names of the 22 files and assign them to a List variable\n# You would need to filter out other files\n# Display the names of these 22 files\nfile_list = os.listdir('./data/CollegeScorecard_Raw_Data')\nfile_list",
      "metadata": {
        "tags": [],
        "cell_id": "00003-efde5ec5-72e9-448a-b593-2c0fea67304e",
        "deepnote_to_be_reexecuted": false,
        "source_hash": "91b508bf",
        "execution_millis": 49,
        "execution_start": 1619162953678,
        "deepnote_cell_type": "code"
      },
      "outputs": [
        {
          "output_type": "execute_result",
          "execution_count": 4,
          "data": {
            "text/plain": "['MERGED2015_16_PP.csv',\n '.DS_Store',\n 'MERGED2013_14_PP.csv',\n 'MERGED1996_97_PP.csv',\n 'MERGED2000_01_PP.csv',\n 'MERGED2002_03_PP.csv',\n 'MERGED1997_98_PP.csv',\n 'MERGED2006_07_PP.csv',\n 'MERGED2018_19_PP.csv',\n 'data.yaml',\n 'MERGED2011_12_PP.csv',\n 'MERGED2007_08_PP.csv',\n 'MERGED2004_05_PP.csv',\n 'Crosswalks.zip',\n 'MERGED2005_06_PP.csv',\n 'FieldOfStudyData1415_1516_PP.csv',\n 'MERGED2003_04_PP.csv',\n 'MERGED2010_11_PP.csv',\n 'MERGED1998_99_PP.csv',\n 'MERGED2012_13_PP.csv',\n 'FieldOfStudyData1516_1617_PP.csv',\n 'MERGED1999_00_PP.csv',\n 'MERGED2016_17_PP.csv',\n 'MERGED2008_09_PP.csv',\n 'MERGED2009_10_PP.csv',\n 'MERGED2001_02_PP.csv',\n 'MERGED2017_18_PP.csv',\n 'MERGED2014_15_PP.csv']"
          },
          "metadata": {}
        }
      ],
      "execution_count": 4
    },
    {
      "cell_type": "code",
      "source": "# 3)-Write code to randomly select one file name out of the 22 files names. \n# Hint: generate a random integer between 0 and 21 first\n# Display the file name\ndf = pd.read_csv(\"./data/CollegeScorecard_Raw_Data/MERGED2009_10_PP.csv\")\ndf.shape",
      "metadata": {
        "tags": [],
        "cell_id": "00004-4068910a-f088-4d26-8455-a6134677a493",
        "deepnote_to_be_reexecuted": false,
        "source_hash": "e4f89db",
        "execution_millis": 5378,
        "execution_start": 1619162953697,
        "deepnote_cell_type": "code"
      },
      "outputs": [
        {
          "name": "stderr",
          "text": "/shared-libs/python3.7/py-core/lib/python3.7/site-packages/IPython/core/interactiveshell.py:3166: DtypeWarning: Columns (1,1351,1365,1377,1378,1407,1408,1411,1426,1431,1432,1433,1445,1446,1447,1537,1538,1539,1540,1541,1542,1547,1548,1549,1553,1554,1559,1560,1561,1562,1563,1567,1568,1571,1572,1573,1574,1606,1609,1610,1611,1613,1614,1615,1616,1636,1637,1711,1723,1724,1729,1909,1910,1911,1912,1913) have mixed types.Specify dtype option on import or set low_memory=False.\n  interactivity=interactivity, compiler=compiler, result=result)\n",
          "output_type": "stream"
        },
        {
          "output_type": "execute_result",
          "execution_count": 5,
          "data": {
            "text/plain": "(7217, 1986)"
          },
          "metadata": {}
        }
      ],
      "execution_count": 5
    },
    {
      "cell_type": "code",
      "source": "# 4)-Only read the two columns: college name (INSTNM) and in state tution (\"TUITIONFEE_IN\")\n# from this file into a data frame aand display use info() function to display a summary information\ndf = pd.read_csv(\"./data/CollegeScorecard_Raw_Data/MERGED2009_10_PP.csv\",usecols=['INSTNM','TUITIONFEE_IN'])\ndf.head()",
      "metadata": {
        "tags": [],
        "cell_id": "00005-28239193-0dd5-494b-804a-1b59e254f9e5",
        "deepnote_to_be_reexecuted": false,
        "source_hash": "40595e45",
        "execution_millis": 1319,
        "execution_start": 1619162959084,
        "deepnote_cell_type": "code"
      },
      "outputs": [
        {
          "output_type": "execute_result",
          "execution_count": 6,
          "data": {
            "application/vnd.deepnote.dataframe.v2+json": {
              "row_count": 5,
              "column_count": 2,
              "columns": [
                {
                  "name": "INSTNM",
                  "dtype": "object",
                  "stats": {
                    "unique_count": 5,
                    "nan_count": 0,
                    "categories": [
                      {
                        "name": "Community College of the Air Force",
                        "count": 1
                      },
                      {
                        "name": "Alabama A & M University",
                        "count": 1
                      },
                      {
                        "name": "3 others",
                        "count": 3
                      }
                    ]
                  }
                },
                {
                  "name": "TUITIONFEE_IN",
                  "dtype": "float64",
                  "stats": {
                    "unique_count": 4,
                    "nan_count": 1,
                    "min": "4692.0",
                    "max": "8000.0",
                    "histogram": [
                      {
                        "bin_start": 4692,
                        "bin_end": 5022.8,
                        "count": 1
                      },
                      {
                        "bin_start": 5022.8,
                        "bin_end": 5353.6,
                        "count": 1
                      },
                      {
                        "bin_start": 5353.6,
                        "bin_end": 5684.4,
                        "count": 0
                      },
                      {
                        "bin_start": 5684.4,
                        "bin_end": 6015.2,
                        "count": 0
                      },
                      {
                        "bin_start": 6015.2,
                        "bin_end": 6346,
                        "count": 0
                      },
                      {
                        "bin_start": 6346,
                        "bin_end": 6676.8,
                        "count": 1
                      },
                      {
                        "bin_start": 6676.8,
                        "bin_end": 7007.6,
                        "count": 0
                      },
                      {
                        "bin_start": 7007.6,
                        "bin_end": 7338.4,
                        "count": 0
                      },
                      {
                        "bin_start": 7338.4,
                        "bin_end": 7669.200000000001,
                        "count": 0
                      },
                      {
                        "bin_start": 7669.200000000001,
                        "bin_end": 8000,
                        "count": 1
                      }
                    ]
                  }
                },
                {
                  "name": "_deepnote_index_column",
                  "dtype": "int64"
                }
              ],
              "rows_top": [
                {
                  "INSTNM": "Community College of the Air Force",
                  "TUITIONFEE_IN": "nan",
                  "_deepnote_index_column": 0
                },
                {
                  "INSTNM": "Alabama A & M University",
                  "TUITIONFEE_IN": "4692.0",
                  "_deepnote_index_column": 1
                },
                {
                  "INSTNM": "University of Alabama at Birmingham",
                  "TUITIONFEE_IN": "5096.0",
                  "_deepnote_index_column": 2
                },
                {
                  "INSTNM": "Amridge University",
                  "TUITIONFEE_IN": "8000.0",
                  "_deepnote_index_column": 3
                },
                {
                  "INSTNM": "University of Alabama in Huntsville",
                  "TUITIONFEE_IN": "6510.0",
                  "_deepnote_index_column": 4
                }
              ],
              "rows_bottom": null
            },
            "text/plain": "                                INSTNM  TUITIONFEE_IN\n0   Community College of the Air Force            NaN\n1             Alabama A & M University         4692.0\n2  University of Alabama at Birmingham         5096.0\n3                   Amridge University         8000.0\n4  University of Alabama in Huntsville         6510.0",
            "text/html": "<div>\n<style scoped>\n    .dataframe tbody tr th:only-of-type {\n        vertical-align: middle;\n    }\n\n    .dataframe tbody tr th {\n        vertical-align: top;\n    }\n\n    .dataframe thead th {\n        text-align: right;\n    }\n</style>\n<table border=\"1\" class=\"dataframe\">\n  <thead>\n    <tr style=\"text-align: right;\">\n      <th></th>\n      <th>INSTNM</th>\n      <th>TUITIONFEE_IN</th>\n    </tr>\n  </thead>\n  <tbody>\n    <tr>\n      <th>0</th>\n      <td>Community College of the Air Force</td>\n      <td>NaN</td>\n    </tr>\n    <tr>\n      <th>1</th>\n      <td>Alabama A &amp; M University</td>\n      <td>4692.0</td>\n    </tr>\n    <tr>\n      <th>2</th>\n      <td>University of Alabama at Birmingham</td>\n      <td>5096.0</td>\n    </tr>\n    <tr>\n      <th>3</th>\n      <td>Amridge University</td>\n      <td>8000.0</td>\n    </tr>\n    <tr>\n      <th>4</th>\n      <td>University of Alabama in Huntsville</td>\n      <td>6510.0</td>\n    </tr>\n  </tbody>\n</table>\n</div>"
          },
          "metadata": {}
        }
      ],
      "execution_count": 6
    },
    {
      "cell_type": "code",
      "source": "# 5)-Find out how many observations have missing value.\ndf.isnull().sum()",
      "metadata": {
        "tags": [],
        "cell_id": "00006-a3ef3187-ff71-4e97-bad8-ac1287d1bf61",
        "deepnote_to_be_reexecuted": false,
        "source_hash": "a89285bd",
        "execution_millis": 17,
        "execution_start": 1619162960398,
        "deepnote_cell_type": "code"
      },
      "outputs": [
        {
          "output_type": "execute_result",
          "execution_count": 7,
          "data": {
            "text/plain": "INSTNM              0\nTUITIONFEE_IN    2928\ndtype: int64"
          },
          "metadata": {}
        }
      ],
      "execution_count": 7
    },
    {
      "cell_type": "code",
      "source": "# 6)- Drop those observations with missing value\n# Disaply the number of observations afterward\ndf = df.dropna() \ndf.shape",
      "metadata": {
        "tags": [],
        "cell_id": "00007-8b3238e4-348b-4c76-ad8b-2bceca1a6fdd",
        "deepnote_to_be_reexecuted": false,
        "source_hash": "9113a8f",
        "execution_millis": 24,
        "execution_start": 1619162960418,
        "deepnote_cell_type": "code"
      },
      "outputs": [
        {
          "output_type": "execute_result",
          "execution_count": 8,
          "data": {
            "text/plain": "(4289, 2)"
          },
          "metadata": {}
        }
      ],
      "execution_count": 8
    },
    {
      "cell_type": "code",
      "source": "# 7)- Find out how many observations have 0 tution.\nzero_tuition = df[df['TUITIONFEE_IN']==0]\nzero_tuition.shape",
      "metadata": {
        "tags": [],
        "cell_id": "00008-65cfd047-bc9a-4d7b-a8c6-c37de46363b1",
        "deepnote_to_be_reexecuted": false,
        "source_hash": "e462e3e",
        "execution_millis": 19,
        "execution_start": 1619162960442,
        "deepnote_cell_type": "code"
      },
      "outputs": [
        {
          "output_type": "execute_result",
          "execution_count": 9,
          "data": {
            "text/plain": "(5, 2)"
          },
          "metadata": {}
        }
      ],
      "execution_count": 9
    },
    {
      "cell_type": "code",
      "source": "# 8) - Drop those observations with 0 tuition\n# Disaply the number of observations afterward\ndf = df[df['TUITIONFEE_IN']!=0]\ndf.shape",
      "metadata": {
        "tags": [],
        "cell_id": "00009-fa1d91ae-f9b7-41ab-88e9-60ea0c67a8d4",
        "deepnote_to_be_reexecuted": false,
        "source_hash": "cb8d7c57",
        "execution_millis": 19,
        "execution_start": 1619162960459,
        "deepnote_cell_type": "code"
      },
      "outputs": [
        {
          "output_type": "execute_result",
          "execution_count": 10,
          "data": {
            "text/plain": "(4284, 2)"
          },
          "metadata": {}
        }
      ],
      "execution_count": 10
    },
    {
      "cell_type": "code",
      "source": "# 9)- Calculate and display the mean (average) of the tuitions of all the remaining observations\naverage_fee = st.mean(df['TUITIONFEE_IN'])\nprint('Average Tuition Fees ', average_fee )",
      "metadata": {
        "tags": [],
        "cell_id": "00010-96854fb9-c6d3-4866-b237-6533e618bfed",
        "deepnote_to_be_reexecuted": false,
        "source_hash": "3686ce5b",
        "execution_millis": 21,
        "execution_start": 1619162960475,
        "deepnote_cell_type": "code"
      },
      "outputs": [
        {
          "name": "stdout",
          "text": "Average Tuition Fees  12067.689775910365\n",
          "output_type": "stream"
        }
      ],
      "execution_count": 11
    },
    {
      "cell_type": "code",
      "source": "# 10)- Randomly select just 1 observation from the data frame.\n# Display the tuition of that observation.\nrow = df.sample() \nrow",
      "metadata": {
        "tags": [],
        "cell_id": "00011-8538c23d-8704-4098-b5c2-bc6d5a81799a",
        "deepnote_to_be_reexecuted": false,
        "source_hash": "2e21be39",
        "execution_millis": 29,
        "execution_start": 1619162960492,
        "deepnote_cell_type": "code"
      },
      "outputs": [
        {
          "output_type": "execute_result",
          "execution_count": 12,
          "data": {
            "application/vnd.deepnote.dataframe.v2+json": {
              "row_count": 1,
              "column_count": 2,
              "columns": [
                {
                  "name": "INSTNM",
                  "dtype": "object",
                  "stats": {
                    "unique_count": 1,
                    "nan_count": 0,
                    "categories": [
                      {
                        "name": "North Lake College",
                        "count": 1
                      }
                    ]
                  }
                },
                {
                  "name": "TUITIONFEE_IN",
                  "dtype": "float64",
                  "stats": {
                    "unique_count": 1,
                    "nan_count": 0,
                    "min": "1230.0",
                    "max": "1230.0",
                    "histogram": [
                      {
                        "bin_start": 1229.5,
                        "bin_end": 1229.6,
                        "count": 0
                      },
                      {
                        "bin_start": 1229.6,
                        "bin_end": 1229.7,
                        "count": 0
                      },
                      {
                        "bin_start": 1229.7,
                        "bin_end": 1229.8,
                        "count": 0
                      },
                      {
                        "bin_start": 1229.8,
                        "bin_end": 1229.9,
                        "count": 0
                      },
                      {
                        "bin_start": 1229.9,
                        "bin_end": 1230,
                        "count": 0
                      },
                      {
                        "bin_start": 1230,
                        "bin_end": 1230.1,
                        "count": 1
                      },
                      {
                        "bin_start": 1230.1,
                        "bin_end": 1230.2,
                        "count": 0
                      },
                      {
                        "bin_start": 1230.2,
                        "bin_end": 1230.3,
                        "count": 0
                      },
                      {
                        "bin_start": 1230.3,
                        "bin_end": 1230.4,
                        "count": 0
                      },
                      {
                        "bin_start": 1230.4,
                        "bin_end": 1230.5,
                        "count": 0
                      }
                    ]
                  }
                },
                {
                  "name": "_deepnote_index_column",
                  "dtype": "int64"
                }
              ],
              "rows_top": [
                {
                  "INSTNM": "North Lake College",
                  "TUITIONFEE_IN": 1230,
                  "_deepnote_index_column": 4011
                }
              ],
              "rows_bottom": null
            },
            "text/plain": "                  INSTNM  TUITIONFEE_IN\n4011  North Lake College         1230.0",
            "text/html": "<div>\n<style scoped>\n    .dataframe tbody tr th:only-of-type {\n        vertical-align: middle;\n    }\n\n    .dataframe tbody tr th {\n        vertical-align: top;\n    }\n\n    .dataframe thead th {\n        text-align: right;\n    }\n</style>\n<table border=\"1\" class=\"dataframe\">\n  <thead>\n    <tr style=\"text-align: right;\">\n      <th></th>\n      <th>INSTNM</th>\n      <th>TUITIONFEE_IN</th>\n    </tr>\n  </thead>\n  <tbody>\n    <tr>\n      <th>4011</th>\n      <td>North Lake College</td>\n      <td>1230.0</td>\n    </tr>\n  </tbody>\n</table>\n</div>"
          },
          "metadata": {}
        }
      ],
      "execution_count": 12
    },
    {
      "cell_type": "code",
      "source": "# 11)-Calculate the different between the tuition of this observation and \n# the mean tuition off all observations calculated earlier.\n# Display the difference\nprint(row['TUITIONFEE_IN']-average_fee)",
      "metadata": {
        "tags": [],
        "cell_id": "00012-a3352531-a6fa-4f09-9843-9751f07f67ab",
        "deepnote_to_be_reexecuted": false,
        "source_hash": "6c1d5098",
        "execution_millis": 15,
        "execution_start": 1619162960518,
        "deepnote_cell_type": "code"
      },
      "outputs": [
        {
          "name": "stdout",
          "text": "4011   -10837.689776\nName: TUITIONFEE_IN, dtype: float64\n",
          "output_type": "stream"
        }
      ],
      "execution_count": 13
    },
    {
      "cell_type": "code",
      "source": "# 12 - Repeat 10 to 11 several times get the feel of the size of the difference in means\n# 13)-Randomly select 20 observations, display the tuition of these observation.\nrandom_observations = df.sample(20)\nrandom_observations",
      "metadata": {
        "tags": [],
        "cell_id": "00013-e2929741-18d9-4954-8d68-45fd3866a171",
        "deepnote_to_be_reexecuted": false,
        "source_hash": "a9ffe7e",
        "execution_millis": 41,
        "execution_start": 1619162960536,
        "deepnote_cell_type": "code"
      },
      "outputs": [
        {
          "output_type": "execute_result",
          "execution_count": 14,
          "data": {
            "application/vnd.deepnote.dataframe.v2+json": {
              "row_count": 20,
              "column_count": 2,
              "columns": [
                {
                  "name": "INSTNM",
                  "dtype": "object",
                  "stats": {
                    "unique_count": 20,
                    "nan_count": 0,
                    "categories": [
                      {
                        "name": "Southside Virginia Community College",
                        "count": 1
                      },
                      {
                        "name": "Southwestern Community College",
                        "count": 1
                      },
                      {
                        "name": "18 others",
                        "count": 18
                      }
                    ]
                  }
                },
                {
                  "name": "TUITIONFEE_IN",
                  "dtype": "float64",
                  "stats": {
                    "unique_count": 20,
                    "nan_count": 0,
                    "min": "1465.0",
                    "max": "24294.0",
                    "histogram": [
                      {
                        "bin_start": 1465,
                        "bin_end": 3747.9,
                        "count": 3
                      },
                      {
                        "bin_start": 3747.9,
                        "bin_end": 6030.8,
                        "count": 5
                      },
                      {
                        "bin_start": 6030.8,
                        "bin_end": 8313.7,
                        "count": 1
                      },
                      {
                        "bin_start": 8313.7,
                        "bin_end": 10596.6,
                        "count": 3
                      },
                      {
                        "bin_start": 10596.6,
                        "bin_end": 12879.5,
                        "count": 1
                      },
                      {
                        "bin_start": 12879.5,
                        "bin_end": 15162.400000000001,
                        "count": 3
                      },
                      {
                        "bin_start": 15162.400000000001,
                        "bin_end": 17445.300000000003,
                        "count": 1
                      },
                      {
                        "bin_start": 17445.300000000003,
                        "bin_end": 19728.2,
                        "count": 0
                      },
                      {
                        "bin_start": 19728.2,
                        "bin_end": 22011.100000000002,
                        "count": 2
                      },
                      {
                        "bin_start": 22011.100000000002,
                        "bin_end": 24294,
                        "count": 1
                      }
                    ]
                  }
                },
                {
                  "name": "_deepnote_index_column",
                  "dtype": "int64"
                }
              ],
              "rows_top": [
                {
                  "INSTNM": "Southside Virginia Community College",
                  "TUITIONFEE_IN": 2856,
                  "_deepnote_index_column": 4229
                },
                {
                  "INSTNM": "Southwestern Community College",
                  "TUITIONFEE_IN": 1465,
                  "_deepnote_index_column": 2987
                },
                {
                  "INSTNM": "Argosy University-The Art Institute of California-Hollywood",
                  "TUITIONFEE_IN": 24294,
                  "_deepnote_index_column": 5232
                },
                {
                  "INSTNM": "Alabama A & M University",
                  "TUITIONFEE_IN": 4692,
                  "_deepnote_index_column": 1
                },
                {
                  "INSTNM": "Cumberland University",
                  "TUITIONFEE_IN": 17430,
                  "_deepnote_index_column": 3804
                },
                {
                  "INSTNM": "University of Phoenix-Central Valley Campus",
                  "TUITIONFEE_IN": 10512,
                  "_deepnote_index_column": 6193
                },
                {
                  "INSTNM": "Dickinson State University",
                  "TUITIONFEE_IN": 5249,
                  "_deepnote_index_column": 3008
                },
                {
                  "INSTNM": "Northwest University",
                  "TUITIONFEE_IN": 21994,
                  "_deepnote_index_column": 4303
                },
                {
                  "INSTNM": "Keiser University-Sarasota",
                  "TUITIONFEE_IN": 14176,
                  "_deepnote_index_column": 7101
                },
                {
                  "INSTNM": "Colorado Technical University-Sioux Falls",
                  "TUITIONFEE_IN": 10245,
                  "_deepnote_index_column": 5109
                },
                {
                  "INSTNM": "Lincoln College of Technology-Grand Prairie",
                  "TUITIONFEE_IN": 21731,
                  "_deepnote_index_column": 3990
                },
                {
                  "INSTNM": "Florida National University-Main Campus",
                  "TUITIONFEE_IN": 13170,
                  "_deepnote_index_column": 5207
                },
                {
                  "INSTNM": "SUNY College at Brockport",
                  "TUITIONFEE_IN": 6108,
                  "_deepnote_index_column": 2818
                },
                {
                  "INSTNM": "Lewis-Clark State College",
                  "TUITIONFEE_IN": 4596,
                  "_deepnote_index_column": 1044
                },
                {
                  "INSTNM": "Randall University",
                  "TUITIONFEE_IN": 9900,
                  "_deepnote_index_column": 3286
                },
                {
                  "INSTNM": "North Georgia Technical College",
                  "TUITIONFEE_IN": 2085,
                  "_deepnote_index_column": 995
                },
                {
                  "INSTNM": "Purdue University Global-Omaha",
                  "TUITIONFEE_IN": 14560,
                  "_deepnote_index_column": 2352
                },
                {
                  "INSTNM": "East Carolina University",
                  "TUITIONFEE_IN": 4477,
                  "_deepnote_index_column": 2907
                },
                {
                  "INSTNM": "Dallas Christian College",
                  "TUITIONFEE_IN": 11548,
                  "_deepnote_index_column": 3937
                },
                {
                  "INSTNM": "Quinsigamond Community College",
                  "TUITIONFEE_IN": 4128,
                  "_deepnote_index_column": 1891
                }
              ],
              "rows_bottom": null
            },
            "text/plain": "                                                 INSTNM  TUITIONFEE_IN\n4229               Southside Virginia Community College         2856.0\n2987                     Southwestern Community College         1465.0\n5232  Argosy University-The Art Institute of Califor...        24294.0\n1                              Alabama A & M University         4692.0\n3804                              Cumberland University        17430.0\n6193        University of Phoenix-Central Valley Campus        10512.0\n3008                         Dickinson State University         5249.0\n4303                               Northwest University        21994.0\n7101                         Keiser University-Sarasota        14176.0\n5109          Colorado Technical University-Sioux Falls        10245.0\n3990        Lincoln College of Technology-Grand Prairie        21731.0\n5207            Florida National University-Main Campus        13170.0\n2818                          SUNY College at Brockport         6108.0\n1044                          Lewis-Clark State College         4596.0\n3286                                 Randall University         9900.0\n995                     North Georgia Technical College         2085.0\n2352                     Purdue University Global-Omaha        14560.0\n2907                           East Carolina University         4477.0\n3937                           Dallas Christian College        11548.0\n1891                     Quinsigamond Community College         4128.0",
            "text/html": "<div>\n<style scoped>\n    .dataframe tbody tr th:only-of-type {\n        vertical-align: middle;\n    }\n\n    .dataframe tbody tr th {\n        vertical-align: top;\n    }\n\n    .dataframe thead th {\n        text-align: right;\n    }\n</style>\n<table border=\"1\" class=\"dataframe\">\n  <thead>\n    <tr style=\"text-align: right;\">\n      <th></th>\n      <th>INSTNM</th>\n      <th>TUITIONFEE_IN</th>\n    </tr>\n  </thead>\n  <tbody>\n    <tr>\n      <th>4229</th>\n      <td>Southside Virginia Community College</td>\n      <td>2856.0</td>\n    </tr>\n    <tr>\n      <th>2987</th>\n      <td>Southwestern Community College</td>\n      <td>1465.0</td>\n    </tr>\n    <tr>\n      <th>5232</th>\n      <td>Argosy University-The Art Institute of Califor...</td>\n      <td>24294.0</td>\n    </tr>\n    <tr>\n      <th>1</th>\n      <td>Alabama A &amp; M University</td>\n      <td>4692.0</td>\n    </tr>\n    <tr>\n      <th>3804</th>\n      <td>Cumberland University</td>\n      <td>17430.0</td>\n    </tr>\n    <tr>\n      <th>6193</th>\n      <td>University of Phoenix-Central Valley Campus</td>\n      <td>10512.0</td>\n    </tr>\n    <tr>\n      <th>3008</th>\n      <td>Dickinson State University</td>\n      <td>5249.0</td>\n    </tr>\n    <tr>\n      <th>4303</th>\n      <td>Northwest University</td>\n      <td>21994.0</td>\n    </tr>\n    <tr>\n      <th>7101</th>\n      <td>Keiser University-Sarasota</td>\n      <td>14176.0</td>\n    </tr>\n    <tr>\n      <th>5109</th>\n      <td>Colorado Technical University-Sioux Falls</td>\n      <td>10245.0</td>\n    </tr>\n    <tr>\n      <th>3990</th>\n      <td>Lincoln College of Technology-Grand Prairie</td>\n      <td>21731.0</td>\n    </tr>\n    <tr>\n      <th>5207</th>\n      <td>Florida National University-Main Campus</td>\n      <td>13170.0</td>\n    </tr>\n    <tr>\n      <th>2818</th>\n      <td>SUNY College at Brockport</td>\n      <td>6108.0</td>\n    </tr>\n    <tr>\n      <th>1044</th>\n      <td>Lewis-Clark State College</td>\n      <td>4596.0</td>\n    </tr>\n    <tr>\n      <th>3286</th>\n      <td>Randall University</td>\n      <td>9900.0</td>\n    </tr>\n    <tr>\n      <th>995</th>\n      <td>North Georgia Technical College</td>\n      <td>2085.0</td>\n    </tr>\n    <tr>\n      <th>2352</th>\n      <td>Purdue University Global-Omaha</td>\n      <td>14560.0</td>\n    </tr>\n    <tr>\n      <th>2907</th>\n      <td>East Carolina University</td>\n      <td>4477.0</td>\n    </tr>\n    <tr>\n      <th>3937</th>\n      <td>Dallas Christian College</td>\n      <td>11548.0</td>\n    </tr>\n    <tr>\n      <th>1891</th>\n      <td>Quinsigamond Community College</td>\n      <td>4128.0</td>\n    </tr>\n  </tbody>\n</table>\n</div>"
          },
          "metadata": {}
        }
      ],
      "execution_count": 14
    },
    {
      "cell_type": "code",
      "source": "# 14)-Calculate and display the mean tuition of these 20 observations\nmean_random_obs = st.mean(random_observations['TUITIONFEE_IN'])\nprint('Average Tuition fee of Random Observations :', mean_random_obs)",
      "metadata": {
        "tags": [],
        "cell_id": "00014-0ad068fa-10d0-4a00-aa64-61a5bb2b32b2",
        "deepnote_to_be_reexecuted": false,
        "source_hash": "293f0e81",
        "execution_millis": 19,
        "execution_start": 1619162960570,
        "deepnote_cell_type": "code"
      },
      "outputs": [
        {
          "name": "stdout",
          "text": "Average Tuition fee of Random Observations : 10260.8\n",
          "output_type": "stream"
        }
      ],
      "execution_count": 15
    },
    {
      "cell_type": "code",
      "source": "# 15)-Calculate  the difference between the average tuition of these 20 observations \n# and the mean tuition off all observations calculated earlier.\n# Display the difference\n# 16)- - Repeat 13 to 15 several times and get the feel of the size of the difference in means \n\nmean_diff = mean_random_obs-average_fee\nprint('Difference between Random observations and previous observations ',mean_diff)",
      "metadata": {
        "tags": [],
        "cell_id": "00015-d2fecd4b-f56c-410b-8fcb-9de281face39",
        "deepnote_to_be_reexecuted": false,
        "source_hash": "118b70c6",
        "execution_millis": 17,
        "execution_start": 1619162960586,
        "deepnote_cell_type": "code"
      },
      "outputs": [
        {
          "name": "stdout",
          "text": "Difference between Random observations and previous observations  -1806.8897759103656\n",
          "output_type": "stream"
        }
      ],
      "execution_count": 16
    },
    {
      "cell_type": "code",
      "source": "# 17)-write function Code here\ndef mean_difference(x,y):\n    random_observations = y.sample(x)\n    mean_random_obs = st.mean(random_observations['TUITIONFEE_IN'])\n    total_mean = st.mean(y['TUITIONFEE_IN'])\n    return abs(mean_random_obs-total_mean)",
      "metadata": {
        "tags": [],
        "cell_id": "00016-23625f17-f705-41ee-bb8f-836fad549b37",
        "deepnote_to_be_reexecuted": false,
        "source_hash": "609837ff",
        "execution_millis": 3,
        "execution_start": 1619162960604,
        "deepnote_cell_type": "code"
      },
      "outputs": [],
      "execution_count": 17
    },
    {
      "cell_type": "code",
      "source": "# 18)- Test the function by passing a sample size and the name of the dataframe\n# Dsplay the return of the function\nrandom_sample = 30\nprint('Mean of random sample: ',mean_difference(30,df))",
      "metadata": {
        "tags": [],
        "cell_id": "00017-71af46bb-dfbe-4daa-913e-3467b6ffba3b",
        "deepnote_to_be_reexecuted": false,
        "source_hash": "72f34255",
        "execution_millis": 36,
        "execution_start": 1619162960614,
        "deepnote_cell_type": "code"
      },
      "outputs": [
        {
          "name": "stdout",
          "text": "Mean of random sample:  2033.656442577032\n",
          "output_type": "stream"
        }
      ],
      "execution_count": 18
    },
    {
      "cell_type": "code",
      "source": "\n# 19)- Create a list of sequence numbers from 1 to 50, name it \"sample_sizes\";\n# display it to make sure its members are from 1 to 50\nsample_sizes = [i for i in range(1,51)]\nprint(sample_sizes)",
      "metadata": {
        "tags": [],
        "cell_id": "00018-334160a0-376d-4baf-a2f1-1e27f43fa615",
        "deepnote_to_be_reexecuted": false,
        "source_hash": "e7a274a2",
        "execution_millis": 21,
        "execution_start": 1619162960629,
        "deepnote_cell_type": "code"
      },
      "outputs": [
        {
          "name": "stdout",
          "text": "[1, 2, 3, 4, 5, 6, 7, 8, 9, 10, 11, 12, 13, 14, 15, 16, 17, 18, 19, 20, 21, 22, 23, 24, 25, 26, 27, 28, 29, 30, 31, 32, 33, 34, 35, 36, 37, 38, 39, 40, 41, 42, 43, 44, 45, 46, 47, 48, 49, 50]\n",
          "output_type": "stream"
        }
      ],
      "execution_count": 19
    },
    {
      "cell_type": "code",
      "source": "# 20)- Create an empty list and name it \"means_diff\" for differences of population mean and sample means;\n# Loop through the list sample_sizes:\n# For each element in the sample size list, obtain a random sample of that size from the data frame;\n# Calculate the sample mean \n# Calculate the difference between the population mean and the sample mean\n# Append the difference to the list \"means_diff\"\n# Display the list \"means_diff\" after the loop is completed\n\ndef calculateMeanDifference(sample_sizes,df):\n    means_diff = []\n    population_mean = st.mean(df['TUITIONFEE_IN'])\n    for i in sample_sizes:\n        sample_df = df.sample(i)\n        sample_mean = st.mean(sample_df['TUITIONFEE_IN'])\n        means_diff.append(abs(sample_mean-population_mean))\n    return means_diff\n    \nprint('Means_diff List after the loop :')\nmeans_diff = calculateMeanDifference(sample_sizes,df)\nprint(means_diff)",
      "metadata": {
        "tags": [],
        "cell_id": "00019-c195c190-a75e-44cf-a972-e0403d5786e0",
        "deepnote_to_be_reexecuted": false,
        "source_hash": "916fab80",
        "execution_millis": 68,
        "execution_start": 1619162960645,
        "deepnote_cell_type": "code"
      },
      "outputs": [
        {
          "name": "stdout",
          "text": "Means_diff List after the loop :\n[2432.310224089635, 7059.310224089635, 1728.310224089635, 2101.310224089635, 1521.9102240896354, 369.47689075630115, 5438.310224089635, 901.8102240896351, 4163.245331465921, 359.7897759103653, 157.598866819455, 2008.9768907563011, 1505.5409933204046, 3376.689775910365, 2356.489775910364, 1873.310224089635, 4704.925070028012, 767.7453314659197, 2368.5733819843717, 1878.5397759103653, 2456.7373949579833, 3486.417048637637, 2188.005876263549, 1198.689775910365, 789.9502240896345, 2013.4256087050198, 2415.6527388733284, 1846.1316526610644, 237.4136723654974, 551.1231092436974, 3571.1811918315707, 1320.127275910365, 1275.7344665138771, 8.280812324928775, 184.1754901960794, 1012.5324463118577, 819.6627488833383, 810.5581969629966, 1177.5872118078005, 325.01477591036564, 412.0907118945124, 51.3326330532218, 698.9381310663794, 181.39432136491087, 2559.354668534079, 1665.798471562539, 1873.413180165684, 2113.747724089635, 642.0653261304506, 310.53022408963443]\n",
          "output_type": "stream"
        }
      ],
      "execution_count": 20
    },
    {
      "cell_type": "code",
      "source": "\n# 21)- Make a scatter plot with sample size on the x-axs and  mean difference on the y-axis\n# Observe as the sample size increases, the sample means converge to the population mean.\n# Make sure you make the plot large enough\nimport matplotlib.pyplot as plt\nplt.scatter(sample_sizes,means_diff)",
      "metadata": {
        "tags": [],
        "cell_id": "00020-58ab4cff-4dbf-4f3f-bf32-7ef392ded017",
        "deepnote_to_be_reexecuted": false,
        "source_hash": "c462897a",
        "execution_millis": 571,
        "execution_start": 1619162960709,
        "deepnote_cell_type": "code"
      },
      "outputs": [
        {
          "output_type": "execute_result",
          "execution_count": 21,
          "data": {
            "text/plain": "<matplotlib.collections.PathCollection at 0x7f298b4dc8d0>"
          },
          "metadata": {}
        },
        {
          "data": {
            "text/plain": "<Figure size 432x288 with 1 Axes>",
            "image/png": "[encoded data removed]"
          },
          "metadata": {
            "needs_background": "light"
          },
          "output_type": "display_data"
        }
      ],
      "execution_count": 21
    },
    {
      "cell_type": "code",
      "source": "# 22)- repeat 18 to 21 by replacing 50 with a larger number. For example, 300, or even 1000.\n# and see how the plot looks.\nsample_sizes = [i for i in range(1,1001)]\nmeans_diff = calculateMeanDifference(sample_sizes,df)\nplt.scatter(sample_sizes,means_diff)",
      "metadata": {
        "tags": [],
        "cell_id": "00021-83d9a2cc-3ff9-4f0d-a3d1-861eba35113c",
        "deepnote_to_be_reexecuted": false,
        "source_hash": "3ef9d232",
        "execution_millis": 1386,
        "execution_start": 1619162961278,
        "deepnote_cell_type": "code"
      },
      "outputs": [
        {
          "output_type": "execute_result",
          "execution_count": 22,
          "data": {
            "text/plain": "<matplotlib.collections.PathCollection at 0x7f29890764d0>"
          },
          "metadata": {}
        },
        {
          "data": {
            "text/plain": "<Figure size 432x288 with 1 Axes>",
            "image/png": "[encoded data removed]"
          },
          "metadata": {
            "needs_background": "light"
          },
          "output_type": "display_data"
        }
      ],
      "execution_count": 22
    },
    {
      "cell_type": "code",
      "source": "",
      "metadata": {
        "tags": [],
        "cell_id": "00022-3a0cd2a1-17cf-4370-b363-f8c38f2e2d40",
        "deepnote_to_be_reexecuted": false,
        "source_hash": "b623e53d",
        "execution_millis": 7,
        "execution_start": 1619162962665,
        "deepnote_cell_type": "code"
      },
      "outputs": [],
      "execution_count": 22
    },
    {
      "cell_type": "markdown",
      "source": "<a style='text-decoration:none;line-height:16px;display:flex;color:#5B5B62;padding:10px;justify-content:end;' href='https://deepnote.com?utm_source=created-in-deepnote-cell&projectId=228dab0f-cd07-447f-a16a-a93d7558780d' target=\"_blank\">\n<img alt='Created in deepnote.com' style='display:inline;max-height:16px;margin:0px;margin-right:7.5px;' src='data:image/svg+xml;base64,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' > </img>\nCreated in <span style='font-weight:600;margin-left:4px;'>Deepnote</span></a>",
      "metadata": {
        "tags": [],
        "created_in_deepnote_cell": true,
        "deepnote_cell_type": "markdown"
      }
    }
  ],
  "nbformat": 4,
  "nbformat_minor": 2,
  "metadata": {
    "orig_nbformat": 2,
    "deepnote": {
      "is_reactive": false
    },
    "deepnote_notebook_id": "fa5ac99d-d13b-424a-990f-d1d0f1262bc5",
    "deepnote_execution_queue": []
  }
}