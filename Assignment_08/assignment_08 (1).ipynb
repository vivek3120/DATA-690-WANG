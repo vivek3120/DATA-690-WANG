{
  "cells": [
    {
      "cell_type": "code",
      "metadata": {
        "tags": [],
        "cell_id": "00000-daf1f3e6-bf7e-462d-849d-28771ad81709",
        "deepnote_to_be_reexecuted": false,
        "source_hash": "764db9fa",
        "execution_millis": 2,
        "execution_start": 1619504442391,
        "deepnote_cell_type": "code"
      },
      "source": "# 1)-Import necessary libraries\nimport pandas as pd\nimport random\nimport os\nimport statistics as st\nimport math",
      "execution_count": 12,
      "outputs": []
    },
    {
      "cell_type": "code",
      "metadata": {
        "tags": [],
        "cell_id": "00001-876ab46b-a6a5-4c4f-a82a-709600763ca0",
        "deepnote_to_be_reexecuted": false,
        "source_hash": "8a872230",
        "execution_millis": 4,
        "execution_start": 1619504443308,
        "deepnote_cell_type": "code"
      },
      "source": "%config IPCompleter.greedy=True\n",
      "execution_count": 13,
      "outputs": []
    },
    {
      "cell_type": "code",
      "metadata": {
        "tags": [],
        "cell_id": "00002-43a80c78-dd07-4b6a-ac0f-f28878fbf062",
        "deepnote_to_be_reexecuted": false,
        "source_hash": "918b056d",
        "execution_millis": 6,
        "execution_start": 1619504443875,
        "deepnote_cell_type": "code"
      },
      "source": "\ncurrent_folder = os.getcwd()\nprint(current_folder)",
      "execution_count": 14,
      "outputs": [
        {
          "name": "stdout",
          "text": "/work\n",
          "output_type": "stream"
        }
      ]
    },
    {
      "cell_type": "code",
      "metadata": {
        "tags": [],
        "cell_id": "00003-efde5ec5-72e9-448a-b593-2c0fea67304e",
        "deepnote_to_be_reexecuted": false,
        "source_hash": "80c64915",
        "execution_millis": 6,
        "execution_start": 1619504444400,
        "deepnote_cell_type": "code"
      },
      "source": "# 2)-Retrieve the names of the 22 files and assign them to a List variable\n# You would need to filter out other files\n# Display the names of these 22 files\n#file_list = os.listdir('./data/CollegeScorecard_Raw_Data')\n#file_list\nmerged_files = [file for file in file_list if 'MERGED' in file]\nmerged_files\n",
      "execution_count": 15,
      "outputs": [
        {
          "output_type": "execute_result",
          "execution_count": 15,
          "data": {
            "text/plain": "['MERGED2015_16_PP.csv',\n 'MERGED2013_14_PP.csv',\n 'MERGED1996_97_PP.csv',\n 'MERGED2000_01_PP.csv',\n 'MERGED2002_03_PP.csv',\n 'MERGED1997_98_PP.csv',\n 'MERGED2006_07_PP.csv',\n 'MERGED2018_19_PP.csv',\n 'MERGED2011_12_PP.csv',\n 'MERGED2007_08_PP.csv',\n 'MERGED2004_05_PP.csv',\n 'MERGED2005_06_PP.csv',\n 'MERGED2003_04_PP.csv',\n 'MERGED2010_11_PP.csv',\n 'MERGED1998_99_PP.csv',\n 'MERGED2012_13_PP.csv',\n 'MERGED1999_00_PP.csv',\n 'MERGED2016_17_PP.csv',\n 'MERGED2008_09_PP.csv',\n 'MERGED2009_10_PP.csv',\n 'MERGED2001_02_PP.csv',\n 'MERGED2017_18_PP.csv',\n 'MERGED2014_15_PP.csv']"
          },
          "metadata": {}
        }
      ]
    },
    {
      "cell_type": "code",
      "metadata": {
        "tags": [],
        "cell_id": "00004-4068910a-f088-4d26-8455-a6134677a493",
        "deepnote_to_be_reexecuted": false,
        "source_hash": "c284b5",
        "execution_millis": 18,
        "execution_start": 1619504446240,
        "deepnote_cell_type": "code"
      },
      "source": "# 3)-Write code to randomly select one file name out of the 22 files names. \n# Hint: generate a random integer between 0 and 21 first\n# Display the file name\nrandom_file=random.choice(os.listdir(\"./data/CollegeScorecard_Raw_Data\"))\nrandom_file",
      "execution_count": 16,
      "outputs": [
        {
          "output_type": "execute_result",
          "execution_count": 16,
          "data": {
            "text/plain": "'MERGED1999_00_PP.csv'"
          },
          "metadata": {}
        }
      ]
    },
    {
      "cell_type": "code",
      "metadata": {
        "tags": [],
        "cell_id": "00005-28239193-0dd5-494b-804a-1b59e254f9e5",
        "deepnote_to_be_reexecuted": false,
        "source_hash": "40595e45",
        "execution_millis": 1130,
        "execution_start": 1619504447119,
        "deepnote_cell_type": "code"
      },
      "source": "# 4)-Only read the two columns: college name (INSTNM) and in state tution (\"TUITIONFEE_IN\")\n# from this file into a data frame aand display use info() function to display a summary information\ndf = pd.read_csv(\"./data/CollegeScorecard_Raw_Data/MERGED2009_10_PP.csv\",usecols=['INSTNM','TUITIONFEE_IN'])\ndf.head()",
      "execution_count": 17,
      "outputs": [
        {
          "output_type": "execute_result",
          "execution_count": 17,
          "data": {
            "application/vnd.deepnote.dataframe.v2+json": {
              "row_count": 5,
              "column_count": 2,
              "columns": [
                {
                  "name": "INSTNM",
                  "dtype": "object",
                  "stats": {
                    "unique_count": 5,
                    "nan_count": 0,
                    "categories": [
                      {
                        "name": "Community College of the Air Force",
                        "count": 1
                      },
                      {
                        "name": "Alabama A & M University",
                        "count": 1
                      },
                      {
                        "name": "3 others",
                        "count": 3
                      }
                    ]
                  }
                },
                {
                  "name": "TUITIONFEE_IN",
                  "dtype": "float64",
                  "stats": {
                    "unique_count": 4,
                    "nan_count": 1,
                    "min": "4692.0",
                    "max": "8000.0",
                    "histogram": [
                      {
                        "bin_start": 4692,
                        "bin_end": 5022.8,
                        "count": 1
                      },
                      {
                        "bin_start": 5022.8,
                        "bin_end": 5353.6,
                        "count": 1
                      },
                      {
                        "bin_start": 5353.6,
                        "bin_end": 5684.4,
                        "count": 0
                      },
                      {
                        "bin_start": 5684.4,
                        "bin_end": 6015.2,
                        "count": 0
                      },
                      {
                        "bin_start": 6015.2,
                        "bin_end": 6346,
                        "count": 0
                      },
                      {
                        "bin_start": 6346,
                        "bin_end": 6676.8,
                        "count": 1
                      },
                      {
                        "bin_start": 6676.8,
                        "bin_end": 7007.6,
                        "count": 0
                      },
                      {
                        "bin_start": 7007.6,
                        "bin_end": 7338.4,
                        "count": 0
                      },
                      {
                        "bin_start": 7338.4,
                        "bin_end": 7669.200000000001,
                        "count": 0
                      },
                      {
                        "bin_start": 7669.200000000001,
                        "bin_end": 8000,
                        "count": 1
                      }
                    ]
                  }
                },
                {
                  "name": "_deepnote_index_column",
                  "dtype": "int64"
                }
              ],
              "rows_top": [
                {
                  "INSTNM": "Community College of the Air Force",
                  "TUITIONFEE_IN": "nan",
                  "_deepnote_index_column": 0
                },
                {
                  "INSTNM": "Alabama A & M University",
                  "TUITIONFEE_IN": "4692.0",
                  "_deepnote_index_column": 1
                },
                {
                  "INSTNM": "University of Alabama at Birmingham",
                  "TUITIONFEE_IN": "5096.0",
                  "_deepnote_index_column": 2
                },
                {
                  "INSTNM": "Amridge University",
                  "TUITIONFEE_IN": "8000.0",
                  "_deepnote_index_column": 3
                },
                {
                  "INSTNM": "University of Alabama in Huntsville",
                  "TUITIONFEE_IN": "6510.0",
                  "_deepnote_index_column": 4
                }
              ],
              "rows_bottom": null
            },
            "text/plain": "                                INSTNM  TUITIONFEE_IN\n0   Community College of the Air Force            NaN\n1             Alabama A & M University         4692.0\n2  University of Alabama at Birmingham         5096.0\n3                   Amridge University         8000.0\n4  University of Alabama in Huntsville         6510.0",
            "text/html": "<div>\n<style scoped>\n    .dataframe tbody tr th:only-of-type {\n        vertical-align: middle;\n    }\n\n    .dataframe tbody tr th {\n        vertical-align: top;\n    }\n\n    .dataframe thead th {\n        text-align: right;\n    }\n</style>\n<table border=\"1\" class=\"dataframe\">\n  <thead>\n    <tr style=\"text-align: right;\">\n      <th></th>\n      <th>INSTNM</th>\n      <th>TUITIONFEE_IN</th>\n    </tr>\n  </thead>\n  <tbody>\n    <tr>\n      <th>0</th>\n      <td>Community College of the Air Force</td>\n      <td>NaN</td>\n    </tr>\n    <tr>\n      <th>1</th>\n      <td>Alabama A &amp; M University</td>\n      <td>4692.0</td>\n    </tr>\n    <tr>\n      <th>2</th>\n      <td>University of Alabama at Birmingham</td>\n      <td>5096.0</td>\n    </tr>\n    <tr>\n      <th>3</th>\n      <td>Amridge University</td>\n      <td>8000.0</td>\n    </tr>\n    <tr>\n      <th>4</th>\n      <td>University of Alabama in Huntsville</td>\n      <td>6510.0</td>\n    </tr>\n  </tbody>\n</table>\n</div>"
          },
          "metadata": {}
        }
      ]
    },
    {
      "cell_type": "code",
      "metadata": {
        "tags": [],
        "cell_id": "00006-a3ef3187-ff71-4e97-bad8-ac1287d1bf61",
        "deepnote_to_be_reexecuted": false,
        "source_hash": "a89285bd",
        "execution_millis": 8,
        "execution_start": 1619504449350,
        "deepnote_cell_type": "code"
      },
      "source": "# 5)-Find out how many observations have missing value.\ndf.isnull().sum()",
      "execution_count": 18,
      "outputs": [
        {
          "output_type": "execute_result",
          "execution_count": 18,
          "data": {
            "text/plain": "INSTNM              0\nTUITIONFEE_IN    2928\ndtype: int64"
          },
          "metadata": {}
        }
      ]
    },
    {
      "cell_type": "code",
      "metadata": {
        "tags": [],
        "cell_id": "00007-8b3238e4-348b-4c76-ad8b-2bceca1a6fdd",
        "deepnote_to_be_reexecuted": false,
        "source_hash": "9113a8f",
        "execution_millis": 15,
        "execution_start": 1619504450211,
        "deepnote_cell_type": "code"
      },
      "source": "# 6)- Drop those observations with missing value\n# Disaply the number of observations afterward\ndf = df.dropna() \ndf.shape",
      "execution_count": 19,
      "outputs": [
        {
          "output_type": "execute_result",
          "execution_count": 19,
          "data": {
            "text/plain": "(4289, 2)"
          },
          "metadata": {}
        }
      ]
    },
    {
      "cell_type": "code",
      "metadata": {
        "tags": [],
        "cell_id": "00008-65cfd047-bc9a-4d7b-a8c6-c37de46363b1",
        "deepnote_to_be_reexecuted": false,
        "source_hash": "e462e3e",
        "execution_millis": 5,
        "execution_start": 1619504450964,
        "deepnote_cell_type": "code"
      },
      "source": "# 7)- Find out how many observations have 0 tution.\nzero_tuition = df[df['TUITIONFEE_IN']==0]\nzero_tuition.shape",
      "execution_count": 20,
      "outputs": [
        {
          "output_type": "execute_result",
          "execution_count": 20,
          "data": {
            "text/plain": "(5, 2)"
          },
          "metadata": {}
        }
      ]
    },
    {
      "cell_type": "code",
      "metadata": {
        "tags": [],
        "cell_id": "00009-fa1d91ae-f9b7-41ab-88e9-60ea0c67a8d4",
        "deepnote_to_be_reexecuted": false,
        "source_hash": "cb8d7c57",
        "execution_millis": 14,
        "execution_start": 1619504452120,
        "deepnote_cell_type": "code"
      },
      "source": "# 8) - Drop those observations with 0 tuition\n# Disaply the number of observations afterward\ndf = df[df['TUITIONFEE_IN']!=0]\ndf.shape",
      "execution_count": 21,
      "outputs": [
        {
          "output_type": "execute_result",
          "execution_count": 21,
          "data": {
            "text/plain": "(4284, 2)"
          },
          "metadata": {}
        }
      ]
    },
    {
      "cell_type": "code",
      "metadata": {
        "tags": [],
        "cell_id": "00010-96854fb9-c6d3-4866-b237-6533e618bfed",
        "deepnote_to_be_reexecuted": false,
        "source_hash": "3686ce5b",
        "execution_millis": 10,
        "execution_start": 1619504452740,
        "deepnote_cell_type": "code"
      },
      "source": "# 9)- Calculate and display the mean (average) of the tuitions of all the remaining observations\naverage_fee = st.mean(df['TUITIONFEE_IN'])\nprint('Average Tuition Fees ', average_fee )",
      "execution_count": 22,
      "outputs": [
        {
          "name": "stdout",
          "text": "Average Tuition Fees  12067.689775910365\n",
          "output_type": "stream"
        }
      ]
    },
    {
      "cell_type": "code",
      "metadata": {
        "tags": [],
        "cell_id": "00011-8538c23d-8704-4098-b5c2-bc6d5a81799a",
        "deepnote_to_be_reexecuted": false,
        "source_hash": "2e21be39",
        "execution_millis": 6,
        "execution_start": 1619504453519,
        "deepnote_cell_type": "code"
      },
      "source": "# 10)- Randomly select just 1 observation from the data frame.\n# Display the tuition of that observation.\nrow = df.sample() \nrow",
      "execution_count": 23,
      "outputs": [
        {
          "output_type": "execute_result",
          "execution_count": 23,
          "data": {
            "application/vnd.deepnote.dataframe.v2+json": {
              "row_count": 1,
              "column_count": 2,
              "columns": [
                {
                  "name": "INSTNM",
                  "dtype": "object",
                  "stats": {
                    "unique_count": 1,
                    "nan_count": 0,
                    "categories": [
                      {
                        "name": "University of Phoenix-Charlotte Campus",
                        "count": 1
                      }
                    ]
                  }
                },
                {
                  "name": "TUITIONFEE_IN",
                  "dtype": "float64",
                  "stats": {
                    "unique_count": 1,
                    "nan_count": 0,
                    "min": "9792.0",
                    "max": "9792.0",
                    "histogram": [
                      {
                        "bin_start": 9791.5,
                        "bin_end": 9791.6,
                        "count": 0
                      },
                      {
                        "bin_start": 9791.6,
                        "bin_end": 9791.7,
                        "count": 0
                      },
                      {
                        "bin_start": 9791.7,
                        "bin_end": 9791.8,
                        "count": 0
                      },
                      {
                        "bin_start": 9791.8,
                        "bin_end": 9791.9,
                        "count": 0
                      },
                      {
                        "bin_start": 9791.9,
                        "bin_end": 9792,
                        "count": 0
                      },
                      {
                        "bin_start": 9792,
                        "bin_end": 9792.1,
                        "count": 1
                      },
                      {
                        "bin_start": 9792.1,
                        "bin_end": 9792.2,
                        "count": 0
                      },
                      {
                        "bin_start": 9792.2,
                        "bin_end": 9792.3,
                        "count": 0
                      },
                      {
                        "bin_start": 9792.3,
                        "bin_end": 9792.4,
                        "count": 0
                      },
                      {
                        "bin_start": 9792.4,
                        "bin_end": 9792.5,
                        "count": 0
                      }
                    ]
                  }
                },
                {
                  "name": "_deepnote_index_column",
                  "dtype": "int64"
                }
              ],
              "rows_top": [
                {
                  "INSTNM": "University of Phoenix-Charlotte Campus",
                  "TUITIONFEE_IN": 9792,
                  "_deepnote_index_column": 6025
                }
              ],
              "rows_bottom": null
            },
            "text/plain": "                                      INSTNM  TUITIONFEE_IN\n6025  University of Phoenix-Charlotte Campus         9792.0",
            "text/html": "<div>\n<style scoped>\n    .dataframe tbody tr th:only-of-type {\n        vertical-align: middle;\n    }\n\n    .dataframe tbody tr th {\n        vertical-align: top;\n    }\n\n    .dataframe thead th {\n        text-align: right;\n    }\n</style>\n<table border=\"1\" class=\"dataframe\">\n  <thead>\n    <tr style=\"text-align: right;\">\n      <th></th>\n      <th>INSTNM</th>\n      <th>TUITIONFEE_IN</th>\n    </tr>\n  </thead>\n  <tbody>\n    <tr>\n      <th>6025</th>\n      <td>University of Phoenix-Charlotte Campus</td>\n      <td>9792.0</td>\n    </tr>\n  </tbody>\n</table>\n</div>"
          },
          "metadata": {}
        }
      ]
    },
    {
      "cell_type": "code",
      "metadata": {
        "tags": [],
        "cell_id": "00012-a3352531-a6fa-4f09-9843-9751f07f67ab",
        "deepnote_to_be_reexecuted": false,
        "source_hash": "6c1d5098",
        "execution_millis": 6,
        "execution_start": 1619504455100,
        "deepnote_cell_type": "code"
      },
      "source": "# 11)-Calculate the different between the tuition of this observation and \n# the mean tuition off all observations calculated earlier.\n# Display the difference\nprint(row['TUITIONFEE_IN']-average_fee)",
      "execution_count": 24,
      "outputs": [
        {
          "name": "stdout",
          "text": "6025   -2275.689776\nName: TUITIONFEE_IN, dtype: float64\n",
          "output_type": "stream"
        }
      ]
    },
    {
      "cell_type": "code",
      "metadata": {
        "tags": [],
        "cell_id": "00013-e2929741-18d9-4954-8d68-45fd3866a171",
        "deepnote_to_be_reexecuted": false,
        "source_hash": "a9ffe7e",
        "execution_millis": 9,
        "execution_start": 1619504455968,
        "deepnote_cell_type": "code"
      },
      "source": "# 12 - Repeat 10 to 11 several times get the feel of the size of the difference in means\n# 13)-Randomly select 20 observations, display the tuition of these observation.\nrandom_observations = df.sample(20)\nrandom_observations",
      "execution_count": 25,
      "outputs": [
        {
          "output_type": "execute_result",
          "execution_count": 25,
          "data": {
            "application/vnd.deepnote.dataframe.v2+json": {
              "row_count": 20,
              "column_count": 2,
              "columns": [
                {
                  "name": "INSTNM",
                  "dtype": "object",
                  "stats": {
                    "unique_count": 20,
                    "nan_count": 0,
                    "categories": [
                      {
                        "name": "Jackson State Community College",
                        "count": 1
                      },
                      {
                        "name": "Harrisburg Area Community College",
                        "count": 1
                      },
                      {
                        "name": "18 others",
                        "count": 18
                      }
                    ]
                  }
                },
                {
                  "name": "TUITIONFEE_IN",
                  "dtype": "float64",
                  "stats": {
                    "unique_count": 20,
                    "nan_count": 0,
                    "min": "624.0",
                    "max": "38440.0",
                    "histogram": [
                      {
                        "bin_start": 624,
                        "bin_end": 4405.6,
                        "count": 5
                      },
                      {
                        "bin_start": 4405.6,
                        "bin_end": 8187.2,
                        "count": 2
                      },
                      {
                        "bin_start": 8187.2,
                        "bin_end": 11968.8,
                        "count": 4
                      },
                      {
                        "bin_start": 11968.8,
                        "bin_end": 15750.4,
                        "count": 4
                      },
                      {
                        "bin_start": 15750.4,
                        "bin_end": 19532,
                        "count": 2
                      },
                      {
                        "bin_start": 19532,
                        "bin_end": 23313.6,
                        "count": 0
                      },
                      {
                        "bin_start": 23313.6,
                        "bin_end": 27095.2,
                        "count": 1
                      },
                      {
                        "bin_start": 27095.2,
                        "bin_end": 30876.8,
                        "count": 1
                      },
                      {
                        "bin_start": 30876.8,
                        "bin_end": 34658.4,
                        "count": 0
                      },
                      {
                        "bin_start": 34658.4,
                        "bin_end": 38440,
                        "count": 1
                      }
                    ]
                  }
                },
                {
                  "name": "_deepnote_index_column",
                  "dtype": "int64"
                }
              ],
              "rows_top": [
                {
                  "INSTNM": "Jackson State Community College",
                  "TUITIONFEE_IN": 2953,
                  "_deepnote_index_column": 3822
                },
                {
                  "INSTNM": "Harrisburg Area Community College",
                  "TUITIONFEE_IN": 3480,
                  "_deepnote_index_column": 3492
                },
                {
                  "INSTNM": "Pennsylvania State University-Penn State DuBois",
                  "TUITIONFEE_IN": 12130,
                  "_deepnote_index_column": 3573
                },
                {
                  "INSTNM": "Daymar College-Owensboro",
                  "TUITIONFEE_IN": 13195,
                  "_deepnote_index_column": 1551
                },
                {
                  "INSTNM": "Clemson University",
                  "TUITIONFEE_IN": 11078,
                  "_deepnote_index_column": 3710
                },
                {
                  "INSTNM": "Boston University",
                  "TUITIONFEE_IN": 38440,
                  "_deepnote_index_column": 1799
                },
                {
                  "INSTNM": "John A Gupton College",
                  "TUITIONFEE_IN": 8920,
                  "_deepnote_index_column": 3823
                },
                {
                  "INSTNM": "Institucion Chaviano de Mayaguez",
                  "TUITIONFEE_IN": 5855,
                  "_deepnote_index_column": 4930
                },
                {
                  "INSTNM": "Coastline Community College",
                  "TUITIONFEE_IN": 650,
                  "_deepnote_index_column": 301
                },
                {
                  "INSTNM": "Rowan University",
                  "TUITIONFEE_IN": 11234,
                  "_deepnote_index_column": 2454
                },
                {
                  "INSTNM": "New England College",
                  "TUITIONFEE_IN": 27450,
                  "_deepnote_index_column": 2397
                },
                {
                  "INSTNM": "Remington College-Colorado Springs Campus",
                  "TUITIONFEE_IN": 13950,
                  "_deepnote_index_column": 5002
                },
                {
                  "INSTNM": "Brown Mackie College-North Canton",
                  "TUITIONFEE_IN": 10656,
                  "_deepnote_index_column": 3170
                },
                {
                  "INSTNM": "West Hills College-Lemoore",
                  "TUITIONFEE_IN": 624,
                  "_deepnote_index_column": 6417
                },
                {
                  "INSTNM": "Westfield State University",
                  "TUITIONFEE_IN": 7016,
                  "_deepnote_index_column": 1912
                },
                {
                  "INSTNM": "Virginia College-Chattanooga",
                  "TUITIONFEE_IN": 15716,
                  "_deepnote_index_column": 6546
                },
                {
                  "INSTNM": "Kentucky Wesleyan College",
                  "TUITIONFEE_IN": 16870,
                  "_deepnote_index_column": 1533
                },
                {
                  "INSTNM": "Centenary University",
                  "TUITIONFEE_IN": 26534,
                  "_deepnote_index_column": 2431
                },
                {
                  "INSTNM": "Honolulu Community College",
                  "TUITIONFEE_IN": 1926,
                  "_deepnote_index_column": 1027
                },
                {
                  "INSTNM": "ITT Technical Institute-Webster",
                  "TUITIONFEE_IN": 17148,
                  "_deepnote_index_column": 5493
                }
              ],
              "rows_bottom": null
            },
            "text/plain": "                                               INSTNM  TUITIONFEE_IN\n3822                  Jackson State Community College         2953.0\n3492                Harrisburg Area Community College         3480.0\n3573  Pennsylvania State University-Penn State DuBois        12130.0\n1551                         Daymar College-Owensboro        13195.0\n3710                               Clemson University        11078.0\n1799                                Boston University        38440.0\n3823                            John A Gupton College         8920.0\n4930                 Institucion Chaviano de Mayaguez         5855.0\n301                       Coastline Community College          650.0\n2454                                 Rowan University        11234.0\n2397                              New England College        27450.0\n5002        Remington College-Colorado Springs Campus        13950.0\n3170                Brown Mackie College-North Canton        10656.0\n6417                       West Hills College-Lemoore          624.0\n1912                       Westfield State University         7016.0\n6546                     Virginia College-Chattanooga        15716.0\n1533                        Kentucky Wesleyan College        16870.0\n2431                             Centenary University        26534.0\n1027                       Honolulu Community College         1926.0\n5493                  ITT Technical Institute-Webster        17148.0",
            "text/html": "<div>\n<style scoped>\n    .dataframe tbody tr th:only-of-type {\n        vertical-align: middle;\n    }\n\n    .dataframe tbody tr th {\n        vertical-align: top;\n    }\n\n    .dataframe thead th {\n        text-align: right;\n    }\n</style>\n<table border=\"1\" class=\"dataframe\">\n  <thead>\n    <tr style=\"text-align: right;\">\n      <th></th>\n      <th>INSTNM</th>\n      <th>TUITIONFEE_IN</th>\n    </tr>\n  </thead>\n  <tbody>\n    <tr>\n      <th>3822</th>\n      <td>Jackson State Community College</td>\n      <td>2953.0</td>\n    </tr>\n    <tr>\n      <th>3492</th>\n      <td>Harrisburg Area Community College</td>\n      <td>3480.0</td>\n    </tr>\n    <tr>\n      <th>3573</th>\n      <td>Pennsylvania State University-Penn State DuBois</td>\n      <td>12130.0</td>\n    </tr>\n    <tr>\n      <th>1551</th>\n      <td>Daymar College-Owensboro</td>\n      <td>13195.0</td>\n    </tr>\n    <tr>\n      <th>3710</th>\n      <td>Clemson University</td>\n      <td>11078.0</td>\n    </tr>\n    <tr>\n      <th>1799</th>\n      <td>Boston University</td>\n      <td>38440.0</td>\n    </tr>\n    <tr>\n      <th>3823</th>\n      <td>John A Gupton College</td>\n      <td>8920.0</td>\n    </tr>\n    <tr>\n      <th>4930</th>\n      <td>Institucion Chaviano de Mayaguez</td>\n      <td>5855.0</td>\n    </tr>\n    <tr>\n      <th>301</th>\n      <td>Coastline Community College</td>\n      <td>650.0</td>\n    </tr>\n    <tr>\n      <th>2454</th>\n      <td>Rowan University</td>\n      <td>11234.0</td>\n    </tr>\n    <tr>\n      <th>2397</th>\n      <td>New England College</td>\n      <td>27450.0</td>\n    </tr>\n    <tr>\n      <th>5002</th>\n      <td>Remington College-Colorado Springs Campus</td>\n      <td>13950.0</td>\n    </tr>\n    <tr>\n      <th>3170</th>\n      <td>Brown Mackie College-North Canton</td>\n      <td>10656.0</td>\n    </tr>\n    <tr>\n      <th>6417</th>\n      <td>West Hills College-Lemoore</td>\n      <td>624.0</td>\n    </tr>\n    <tr>\n      <th>1912</th>\n      <td>Westfield State University</td>\n      <td>7016.0</td>\n    </tr>\n    <tr>\n      <th>6546</th>\n      <td>Virginia College-Chattanooga</td>\n      <td>15716.0</td>\n    </tr>\n    <tr>\n      <th>1533</th>\n      <td>Kentucky Wesleyan College</td>\n      <td>16870.0</td>\n    </tr>\n    <tr>\n      <th>2431</th>\n      <td>Centenary University</td>\n      <td>26534.0</td>\n    </tr>\n    <tr>\n      <th>1027</th>\n      <td>Honolulu Community College</td>\n      <td>1926.0</td>\n    </tr>\n    <tr>\n      <th>5493</th>\n      <td>ITT Technical Institute-Webster</td>\n      <td>17148.0</td>\n    </tr>\n  </tbody>\n</table>\n</div>"
          },
          "metadata": {}
        }
      ]
    },
    {
      "cell_type": "code",
      "metadata": {
        "tags": [],
        "cell_id": "00014-0ad068fa-10d0-4a00-aa64-61a5bb2b32b2",
        "deepnote_to_be_reexecuted": false,
        "source_hash": "293f0e81",
        "execution_millis": 7,
        "execution_start": 1619504457652,
        "deepnote_cell_type": "code"
      },
      "source": "# 14)-Calculate and display the mean tuition of these 20 observations\nmean_random_obs = st.mean(random_observations['TUITIONFEE_IN'])\nprint('Average Tuition fee of Random Observations :', mean_random_obs)",
      "execution_count": 26,
      "outputs": [
        {
          "name": "stdout",
          "text": "Average Tuition fee of Random Observations : 12291.25\n",
          "output_type": "stream"
        }
      ]
    },
    {
      "cell_type": "code",
      "metadata": {
        "tags": [],
        "cell_id": "00015-d2fecd4b-f56c-410b-8fcb-9de281face39",
        "deepnote_to_be_reexecuted": false,
        "source_hash": "118b70c6",
        "execution_millis": 9,
        "execution_start": 1619504458494,
        "deepnote_cell_type": "code"
      },
      "source": "# 15)-Calculate  the difference between the average tuition of these 20 observations \n# and the mean tuition off all observations calculated earlier.\n# Display the difference\n# 16)- - Repeat 13 to 15 several times and get the feel of the size of the difference in means \n\nmean_diff = mean_random_obs-average_fee\nprint('Difference between Random observations and previous observations ',mean_diff)",
      "execution_count": 27,
      "outputs": [
        {
          "name": "stdout",
          "text": "Difference between Random observations and previous observations  223.56022408963508\n",
          "output_type": "stream"
        }
      ]
    },
    {
      "cell_type": "code",
      "metadata": {
        "tags": [],
        "cell_id": "00016-23625f17-f705-41ee-bb8f-836fad549b37",
        "deepnote_to_be_reexecuted": false,
        "source_hash": "609837ff",
        "execution_millis": 7,
        "execution_start": 1619504459603,
        "deepnote_cell_type": "code"
      },
      "source": "# 17)-write function Code here\ndef mean_difference(x,y):\n    random_observations = y.sample(x)\n    mean_random_obs = st.mean(random_observations['TUITIONFEE_IN'])\n    total_mean = st.mean(y['TUITIONFEE_IN'])\n    return abs(mean_random_obs-total_mean)",
      "execution_count": 28,
      "outputs": []
    },
    {
      "cell_type": "code",
      "metadata": {
        "tags": [],
        "cell_id": "00017-71af46bb-dfbe-4daa-913e-3467b6ffba3b",
        "deepnote_to_be_reexecuted": false,
        "source_hash": "72f34255",
        "execution_millis": 9,
        "execution_start": 1619504460510,
        "deepnote_cell_type": "code"
      },
      "source": "# 18)- Test the function by passing a sample size and the name of the dataframe\n# Dsplay the return of the function\nrandom_sample = 30\nprint('Mean of random sample: ',mean_difference(30,df))",
      "execution_count": 29,
      "outputs": [
        {
          "name": "stdout",
          "text": "Mean of random sample:  619.6231092436974\n",
          "output_type": "stream"
        }
      ]
    },
    {
      "cell_type": "code",
      "metadata": {
        "tags": [],
        "cell_id": "00018-334160a0-376d-4baf-a2f1-1e27f43fa615",
        "deepnote_to_be_reexecuted": false,
        "source_hash": "e7a274a2",
        "execution_millis": 8,
        "execution_start": 1619504461256,
        "deepnote_cell_type": "code"
      },
      "source": "\n# 19)- Create a list of sequence numbers from 1 to 50, name it \"sample_sizes\";\n# display it to make sure its members are from 1 to 50\nsample_sizes = [i for i in range(1,51)]\nprint(sample_sizes)",
      "execution_count": 30,
      "outputs": [
        {
          "name": "stdout",
          "text": "[1, 2, 3, 4, 5, 6, 7, 8, 9, 10, 11, 12, 13, 14, 15, 16, 17, 18, 19, 20, 21, 22, 23, 24, 25, 26, 27, 28, 29, 30, 31, 32, 33, 34, 35, 36, 37, 38, 39, 40, 41, 42, 43, 44, 45, 46, 47, 48, 49, 50]\n",
          "output_type": "stream"
        }
      ]
    },
    {
      "cell_type": "code",
      "metadata": {
        "tags": [],
        "cell_id": "00019-c195c190-a75e-44cf-a972-e0403d5786e0",
        "deepnote_to_be_reexecuted": false,
        "source_hash": "916fab80",
        "execution_millis": 17,
        "execution_start": 1619504463238,
        "deepnote_cell_type": "code"
      },
      "source": "# 20)- Create an empty list and name it \"means_diff\" for differences of population mean and sample means;\n# Loop through the list sample_sizes:\n# For each element in the sample size list, obtain a random sample of that size from the data frame;\n# Calculate the sample mean \n# Calculate the difference between the population mean and the sample mean\n# Append the difference to the list \"means_diff\"\n# Display the list \"means_diff\" after the loop is completed\n\ndef calculateMeanDifference(sample_sizes,df):\n    means_diff = []\n    population_mean = st.mean(df['TUITIONFEE_IN'])\n    for i in sample_sizes:\n        sample_df = df.sample(i)\n        sample_mean = st.mean(sample_df['TUITIONFEE_IN'])\n        means_diff.append(abs(sample_mean-population_mean))\n    return means_diff\n    \nprint('Means_diff List after the loop :')\nmeans_diff = calculateMeanDifference(sample_sizes,df)\nprint(means_diff)",
      "execution_count": 31,
      "outputs": [
        {
          "name": "stdout",
          "text": "Means_diff List after the loop :\n[21052.310224089633, 1882.689775910365, 490.6897759103649, 5481.189775910365, 513.1102240896344, 4737.810224089635, 259.11834733893556, 3841.310224089635, 2984.0880018674125, 6647.7102240896365, 2536.401133180545, 199.43977591036492, 888.8486856280961, 154.40406162465115, 2389.310224089635, 886.0022759103649, 1871.3956582633054, 901.9213352007464, 1206.00556538405, 3612.489775910364, 2425.976890756301, 1713.764769544181, 1417.2667458287651, 4716.685224089635, 1037.8097759103657, 1291.6128528334411, 2892.902816682228, 2807.0245098039213, 2259.931155220709, 2141.143557422969, 3165.8510662329463, 4704.341474089635, 2463.417048637637, 1457.045518207282, 1391.367366946777, 88.49533146591966, 154.85193807252654, 2607.49443461595, 633.9461861667751, 237.6147759103642, 163.3346143335384, 3415.7387955182057, 4265.340938701062, 689.917048637637, 573.0435574229687, 23.320210692972978, 933.6506496215497, 2017.7893907563011, 2012.228591436573, 894.350224089636]\n",
          "output_type": "stream"
        }
      ]
    },
    {
      "cell_type": "code",
      "metadata": {
        "tags": [],
        "cell_id": "00020-58ab4cff-4dbf-4f3f-bf32-7ef392ded017",
        "deepnote_to_be_reexecuted": false,
        "source_hash": "c462897a",
        "execution_millis": 1156,
        "execution_start": 1619504464181,
        "deepnote_cell_type": "code"
      },
      "source": "\n# 21)- Make a scatter plot with sample size on the x-axs and  mean difference on the y-axis\n# Observe as the sample size increases, the sample means converge to the population mean.\n# Make sure you make the plot large enough\nimport matplotlib.pyplot as plt\nplt.scatter(sample_sizes,means_diff)",
      "execution_count": 32,
      "outputs": [
        {
          "output_type": "execute_result",
          "execution_count": 32,
          "data": {
            "text/plain": "<matplotlib.collections.PathCollection at 0x7f8fb01716d0>"
          },
          "metadata": {}
        },
        {
          "data": {
            "text/plain": "<Figure size 432x288 with 1 Axes>",
            "image/png": "[encoded data removed]"
          },
          "metadata": {
            "needs_background": "light"
          },
          "output_type": "display_data"
        }
      ]
    },
    {
      "cell_type": "code",
      "metadata": {
        "tags": [],
        "cell_id": "00021-83d9a2cc-3ff9-4f0d-a3d1-861eba35113c",
        "deepnote_to_be_reexecuted": false,
        "source_hash": "3ef9d232",
        "execution_millis": 1039,
        "execution_start": 1619504466052,
        "deepnote_cell_type": "code"
      },
      "source": "# 22)- repeat 18 to 21 by replacing 50 with a larger number. For example, 300, or even 1000.\n# and see how the plot looks.\nsample_sizes = [i for i in range(1,1001)]\nmeans_diff = calculateMeanDifference(sample_sizes,df)\nplt.scatter(sample_sizes,means_diff)",
      "execution_count": 33,
      "outputs": [
        {
          "output_type": "execute_result",
          "execution_count": 33,
          "data": {
            "text/plain": "<matplotlib.collections.PathCollection at 0x7f8fb0525710>"
          },
          "metadata": {}
        },
        {
          "data": {
            "text/plain": "<Figure size 432x288 with 1 Axes>",
            "image/png": "[encoded data removed]"
          },
          "metadata": {
            "needs_background": "light"
          },
          "output_type": "display_data"
        }
      ]
    },
    {
      "cell_type": "code",
      "metadata": {
        "tags": [],
        "cell_id": "00022-3a0cd2a1-17cf-4370-b363-f8c38f2e2d40",
        "deepnote_to_be_reexecuted": false,
        "source_hash": "b623e53d",
        "execution_millis": 7,
        "execution_start": 1619162962665,
        "deepnote_cell_type": "code"
      },
      "source": "",
      "execution_count": null,
      "outputs": []
    },
    {
      "cell_type": "markdown",
      "source": "<a style='text-decoration:none;line-height:16px;display:flex;color:#5B5B62;padding:10px;justify-content:end;' href='https://deepnote.com?utm_source=created-in-deepnote-cell&projectId=228dab0f-cd07-447f-a16a-a93d7558780d' target=\"_blank\">\n<img alt='Created in deepnote.com' style='display:inline;max-height:16px;margin:0px;margin-right:7.5px;' src='data:image/svg+xml;base64,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' > </img>\nCreated in <span style='font-weight:600;margin-left:4px;'>Deepnote</span></a>",
      "metadata": {
        "tags": [],
        "created_in_deepnote_cell": true,
        "deepnote_cell_type": "markdown"
      }
    }
  ],
  "nbformat": 4,
  "nbformat_minor": 2,
  "metadata": {
    "orig_nbformat": 2,
    "deepnote": {
      "is_reactive": false
    },
    "deepnote_notebook_id": "fa5ac99d-d13b-424a-990f-d1d0f1262bc5",
    "deepnote_execution_queue": []
  }
}